{
 "cells": [
  {
   "cell_type": "markdown",
   "metadata": {},
   "source": [
    "# Animal Control Data Preparation\n",
    "## Rebecca Lewis\n",
    "## DSC 680"
   ]
  },
  {
   "cell_type": "code",
   "execution_count": 1,
   "metadata": {},
   "outputs": [],
   "source": [
    "import pandas as pd\n",
    "import numpy as np\n",
    "import datetime"
   ]
  },
  {
   "cell_type": "markdown",
   "metadata": {},
   "source": [
    "### Review the cleaned dataset and the raw dataset and merge them based on file_number."
   ]
  },
  {
   "cell_type": "code",
   "execution_count": 2,
   "metadata": {},
   "outputs": [
    {
     "name": "stderr",
     "output_type": "stream",
     "text": [
      "C:\\Users\\rvick\\Anaconda3\\envs\\R_Python\\lib\\site-packages\\IPython\\core\\interactiveshell.py:3063: DtypeWarning: Columns (14,32) have mixed types.Specify dtype option on import or set low_memory=False.\n",
      "  interactivity=interactivity, compiler=compiler, result=result)\n"
     ]
    },
    {
     "data": {
      "text/plain": [
       "(   file_number         incident_date          request_type  \\\n",
       " 0    201639027  2016-12-27T00:00:00Z          CRUELTY CASE   \n",
       " 1    201639044  2016-12-28T00:00:00Z        TRAPPED ANIMAL   \n",
       " 2    201639036  2016-12-28T00:00:00Z  STRAY ANIMAL SECURED   \n",
       " 3    201639042  2016-12-28T00:00:00Z         ABANDONED DOG   \n",
       " 4    201639059  2016-12-28T00:00:00Z  STRAY ANIMAL SECURED   \n",
       " \n",
       "                                 location municipality  zip_code   species  \\\n",
       " 0        3366 SYCAMORE, BATON ROUGE, LA.  BATON ROUGE   70805.0       DOG   \n",
       " 1  2582 WOODLAND RIDGE, BATON ROUGE, LA.  BATON ROUGE   70816.0  WILDLIFE   \n",
       " 2                4463 MAIN, ZACHARY, LA.      ZACHARY   70791.0       DOG   \n",
       " 3            2100 ERIE, BATON ROUGE, LA.  BATON ROUGE   70805.0       DOG   \n",
       " 4        299 VAN BUREN, BATON ROUGE, LA.  BATON ROUGE   70714.0       DOG   \n",
       " \n",
       "                breed sex    size  age  condition temperment     disposition  \\\n",
       " 0            PITBULL   F   LARGE  NaN       FAIR   FRIENDLY       TRANS CAA   \n",
       " 1             POSSUM   U   LARGE  NaN       FAIR     NORMAL  RETURN TO WILD   \n",
       " 2            PITBULL   M   LARGE  NaN  EMACIATED   FRIENDLY       TRANS CAA   \n",
       " 3    GERMAN SHEPHERD   F  MEDIUM  NaN  EMACIATED   FRIENDLY       TRANS CAA   \n",
       " 4  YORKSHIRE TERRIER   F   SMALL  NaN  EMACIATED     NORMAL       TRANS CAA   \n",
       " \n",
       "          lat       long  \n",
       " 0  30.494640 -91.156160  \n",
       " 1  30.431417 -91.141070  \n",
       " 2  30.648540 -91.156770  \n",
       " 3  30.476015 -91.168460  \n",
       " 4  30.429104 -91.185036  ,\n",
       "    FILE NUMBER INCIDENT DATE INCIDENT TIME DISPATCHED TIME CALL TAKER  \\\n",
       " 0    201639027    12/27/2016         15:30           16:06    UNKNOWN   \n",
       " 1    201639044    12/28/2016         10:06           10:07    UNKNOWN   \n",
       " 2    201639036    12/28/2016         09:03           09:03    UNKNOWN   \n",
       " 3    202087899    08/30/2020         13:39           00:00    UNKNOWN   \n",
       " 4    201639059    12/28/2016         15:05           15:45    UNKNOWN   \n",
       " \n",
       "    DISPATCHER  DISPATCHED OTHER DISPATCHED SITUATION ARRIVAL TIME  \\\n",
       " 0  JENNIFER G                 0                    D        16:17   \n",
       " 1  JENNIFER G                 0                    D        10:15   \n",
       " 2  JENNIFER G                 0                    D        09:27   \n",
       " 3     UNKNOWN                 0                    D        00:00   \n",
       " 4  JENNIFER G                 0                    D        16:07   \n",
       " \n",
       "   AVAILABLE TIME  ...  CONDITION TEMPERMENT   COLLAR COLLAR COLOR  \\\n",
       " 0          16:38  ...       FAIR   FRIENDLY    NYLON          RED   \n",
       " 1          10:23  ...       FAIR     NORMAL  UNKNOWN      UNKNOWN   \n",
       " 2          09:45  ...  EMACIATED   FRIENDLY  LEATHER         PINK   \n",
       " 3          16:52  ...        NaN        NaN      NaN          NaN   \n",
       " 4          16:25  ...  EMACIATED     NORMAL  UNKNOWN      UNKNOWN   \n",
       " \n",
       "   VACCINATION NUMBER  VACCINATION DATE PET NAME     DISPOSITION  \\\n",
       " 0                NaN               NaN      NaN       TRANS CAA   \n",
       " 1                NaN               NaN      NaN  RETURN TO WILD   \n",
       " 2                NaN               NaN      NaN       TRANS CAA   \n",
       " 3                NaN               NaN      NaN             NaN   \n",
       " 4                NaN               NaN      NaN       TRANS CAA   \n",
       " \n",
       "   DISPOSITION DATE DISPOSITION OFFICER  \n",
       " 0       12/27/2016             FRANK S  \n",
       " 1       12/28/2016            TRAVIS R  \n",
       " 2       12/28/2016             ISAAC S  \n",
       " 3              NaN                 NaN  \n",
       " 4       12/28/2016               SUE H  \n",
       " \n",
       " [5 rows x 38 columns])"
      ]
     },
     "execution_count": 2,
     "metadata": {},
     "output_type": "execute_result"
    }
   ],
   "source": [
    "# load pre cleaned and raw data\n",
    "ac_clean = pd.read_csv('../Data/BR_Animal_Control_Calls.csv')\n",
    "ac_raw = pd.read_csv('../Data/RAW_Animal_Control_Incidents.csv')\n",
    "\n",
    "ac_clean.head(), ac_raw.head()"
   ]
  },
  {
   "cell_type": "code",
   "execution_count": 3,
   "metadata": {},
   "outputs": [
    {
     "data": {
      "text/plain": [
       "((52585, 16), (95329, 38))"
      ]
     },
     "execution_count": 3,
     "metadata": {},
     "output_type": "execute_result"
    }
   ],
   "source": [
    "# get the size of data\n",
    "ac_clean.shape, ac_raw.shape"
   ]
  },
  {
   "cell_type": "code",
   "execution_count": 4,
   "metadata": {},
   "outputs": [
    {
     "name": "stdout",
     "output_type": "stream",
     "text": [
      "<class 'pandas.core.frame.DataFrame'>\n",
      "RangeIndex: 52585 entries, 0 to 52584\n",
      "Data columns (total 16 columns):\n",
      " #   Column         Non-Null Count  Dtype  \n",
      "---  ------         --------------  -----  \n",
      " 0   file_number    52585 non-null  int64  \n",
      " 1   incident_date  52585 non-null  object \n",
      " 2   request_type   19735 non-null  object \n",
      " 3   location       52585 non-null  object \n",
      " 4   municipality   52585 non-null  object \n",
      " 5   zip_code       24185 non-null  float64\n",
      " 6   species        52564 non-null  object \n",
      " 7   breed          51770 non-null  object \n",
      " 8   sex            40237 non-null  object \n",
      " 9   size           51315 non-null  object \n",
      " 10  age            32906 non-null  float64\n",
      " 11  condition      50383 non-null  object \n",
      " 12  temperment     50986 non-null  object \n",
      " 13  disposition    52578 non-null  object \n",
      " 14  lat            52585 non-null  float64\n",
      " 15  long           52585 non-null  float64\n",
      "dtypes: float64(4), int64(1), object(11)\n",
      "memory usage: 6.4+ MB\n"
     ]
    }
   ],
   "source": [
    "ac_clean.info()"
   ]
  },
  {
   "cell_type": "code",
   "execution_count": 5,
   "metadata": {},
   "outputs": [
    {
     "name": "stdout",
     "output_type": "stream",
     "text": [
      "<class 'pandas.core.frame.DataFrame'>\n",
      "RangeIndex: 95329 entries, 0 to 95328\n",
      "Data columns (total 38 columns):\n",
      " #   Column                Non-Null Count  Dtype  \n",
      "---  ------                --------------  -----  \n",
      " 0   FILE NUMBER           95329 non-null  int64  \n",
      " 1   INCIDENT DATE         95329 non-null  object \n",
      " 2   INCIDENT TIME         94844 non-null  object \n",
      " 3   DISPATCHED TIME       84573 non-null  object \n",
      " 4   CALL TAKER            75160 non-null  object \n",
      " 5   DISPATCHER            82265 non-null  object \n",
      " 6   DISPATCHED OTHER      95329 non-null  int64  \n",
      " 7   DISPATCHED SITUATION  84563 non-null  object \n",
      " 8   ARRIVAL TIME          83869 non-null  object \n",
      " 9   AVAILABLE TIME        84571 non-null  object \n",
      " 10  COMPLAINANT STREET    95273 non-null  object \n",
      " 11  REQUEST TYPE          62167 non-null  object \n",
      " 12  OFFICER               83261 non-null  object \n",
      " 13  EQUIPMENT NUMBER      80390 non-null  object \n",
      " 14  REMARKS               2098 non-null   object \n",
      " 15  IMPOUND NUMBER        53199 non-null  float64\n",
      " 16  IMPOUND DATE          53194 non-null  object \n",
      " 17  IMPOUND TIME          53135 non-null  object \n",
      " 18  LOCATION              52956 non-null  object \n",
      " 19  MUNICIPALITY          53195 non-null  object \n",
      " 20  ZIP CODE              24310 non-null  float64\n",
      " 21  SERVICE CODE          53199 non-null  object \n",
      " 22  SPECIES               53177 non-null  object \n",
      " 23  BREED                 52371 non-null  object \n",
      " 24  SEX                   40731 non-null  object \n",
      " 25  SIZE                  51904 non-null  object \n",
      " 26  COLOR                 51843 non-null  object \n",
      " 27  AGE                   33217 non-null  float64\n",
      " 28  CONDITION             50967 non-null  object \n",
      " 29  TEMPERMENT            51575 non-null  object \n",
      " 30  COLLAR                25055 non-null  object \n",
      " 31  COLLAR COLOR          24538 non-null  object \n",
      " 32  VACCINATION NUMBER    600 non-null    object \n",
      " 33  VACCINATION DATE      348 non-null    object \n",
      " 34  PET NAME              1014 non-null   object \n",
      " 35  DISPOSITION           53192 non-null  object \n",
      " 36  DISPOSITION DATE      38610 non-null  object \n",
      " 37  DISPOSITION OFFICER   52412 non-null  object \n",
      "dtypes: float64(3), int64(2), object(33)\n",
      "memory usage: 27.6+ MB\n"
     ]
    }
   ],
   "source": [
    "ac_raw.info()"
   ]
  },
  {
   "cell_type": "code",
   "execution_count": 6,
   "metadata": {
    "scrolled": false
   },
   "outputs": [
    {
     "data": {
      "text/html": [
       "<div>\n",
       "<style scoped>\n",
       "    .dataframe tbody tr th:only-of-type {\n",
       "        vertical-align: middle;\n",
       "    }\n",
       "\n",
       "    .dataframe tbody tr th {\n",
       "        vertical-align: top;\n",
       "    }\n",
       "\n",
       "    .dataframe thead th {\n",
       "        text-align: right;\n",
       "    }\n",
       "</style>\n",
       "<table border=\"1\" class=\"dataframe\">\n",
       "  <thead>\n",
       "    <tr style=\"text-align: right;\">\n",
       "      <th></th>\n",
       "      <th>file_number</th>\n",
       "      <th>incident_date</th>\n",
       "      <th>request_type</th>\n",
       "      <th>location</th>\n",
       "      <th>municipality</th>\n",
       "      <th>zip_code</th>\n",
       "      <th>species</th>\n",
       "      <th>breed</th>\n",
       "      <th>sex</th>\n",
       "      <th>size</th>\n",
       "      <th>...</th>\n",
       "      <th>CONDITION</th>\n",
       "      <th>TEMPERMENT</th>\n",
       "      <th>COLLAR</th>\n",
       "      <th>COLLAR COLOR</th>\n",
       "      <th>VACCINATION NUMBER</th>\n",
       "      <th>VACCINATION DATE</th>\n",
       "      <th>PET NAME</th>\n",
       "      <th>DISPOSITION</th>\n",
       "      <th>DISPOSITION DATE</th>\n",
       "      <th>DISPOSITION OFFICER</th>\n",
       "    </tr>\n",
       "  </thead>\n",
       "  <tbody>\n",
       "    <tr>\n",
       "      <th>0</th>\n",
       "      <td>201639027</td>\n",
       "      <td>2016-12-27T00:00:00Z</td>\n",
       "      <td>CRUELTY CASE</td>\n",
       "      <td>3366 SYCAMORE, BATON ROUGE, LA.</td>\n",
       "      <td>BATON ROUGE</td>\n",
       "      <td>70805.0</td>\n",
       "      <td>DOG</td>\n",
       "      <td>PITBULL</td>\n",
       "      <td>F</td>\n",
       "      <td>LARGE</td>\n",
       "      <td>...</td>\n",
       "      <td>FAIR</td>\n",
       "      <td>FRIENDLY</td>\n",
       "      <td>NYLON</td>\n",
       "      <td>RED</td>\n",
       "      <td>NaN</td>\n",
       "      <td>NaN</td>\n",
       "      <td>NaN</td>\n",
       "      <td>TRANS CAA</td>\n",
       "      <td>12/27/2016</td>\n",
       "      <td>FRANK S</td>\n",
       "    </tr>\n",
       "    <tr>\n",
       "      <th>1</th>\n",
       "      <td>201639044</td>\n",
       "      <td>2016-12-28T00:00:00Z</td>\n",
       "      <td>TRAPPED ANIMAL</td>\n",
       "      <td>2582 WOODLAND RIDGE, BATON ROUGE, LA.</td>\n",
       "      <td>BATON ROUGE</td>\n",
       "      <td>70816.0</td>\n",
       "      <td>WILDLIFE</td>\n",
       "      <td>POSSUM</td>\n",
       "      <td>U</td>\n",
       "      <td>LARGE</td>\n",
       "      <td>...</td>\n",
       "      <td>FAIR</td>\n",
       "      <td>NORMAL</td>\n",
       "      <td>UNKNOWN</td>\n",
       "      <td>UNKNOWN</td>\n",
       "      <td>NaN</td>\n",
       "      <td>NaN</td>\n",
       "      <td>NaN</td>\n",
       "      <td>RETURN TO WILD</td>\n",
       "      <td>12/28/2016</td>\n",
       "      <td>TRAVIS R</td>\n",
       "    </tr>\n",
       "    <tr>\n",
       "      <th>2</th>\n",
       "      <td>201639036</td>\n",
       "      <td>2016-12-28T00:00:00Z</td>\n",
       "      <td>STRAY ANIMAL SECURED</td>\n",
       "      <td>4463 MAIN, ZACHARY, LA.</td>\n",
       "      <td>ZACHARY</td>\n",
       "      <td>70791.0</td>\n",
       "      <td>DOG</td>\n",
       "      <td>PITBULL</td>\n",
       "      <td>M</td>\n",
       "      <td>LARGE</td>\n",
       "      <td>...</td>\n",
       "      <td>EMACIATED</td>\n",
       "      <td>FRIENDLY</td>\n",
       "      <td>LEATHER</td>\n",
       "      <td>PINK</td>\n",
       "      <td>NaN</td>\n",
       "      <td>NaN</td>\n",
       "      <td>NaN</td>\n",
       "      <td>TRANS CAA</td>\n",
       "      <td>12/28/2016</td>\n",
       "      <td>ISAAC S</td>\n",
       "    </tr>\n",
       "    <tr>\n",
       "      <th>3</th>\n",
       "      <td>201639042</td>\n",
       "      <td>2016-12-28T00:00:00Z</td>\n",
       "      <td>ABANDONED DOG</td>\n",
       "      <td>2100 ERIE, BATON ROUGE, LA.</td>\n",
       "      <td>BATON ROUGE</td>\n",
       "      <td>70805.0</td>\n",
       "      <td>DOG</td>\n",
       "      <td>GERMAN SHEPHERD</td>\n",
       "      <td>F</td>\n",
       "      <td>MEDIUM</td>\n",
       "      <td>...</td>\n",
       "      <td>EMACIATED</td>\n",
       "      <td>FRIENDLY</td>\n",
       "      <td>UNKNOWN</td>\n",
       "      <td>UNKNOWN</td>\n",
       "      <td>NaN</td>\n",
       "      <td>NaN</td>\n",
       "      <td>NaN</td>\n",
       "      <td>TRANS CAA</td>\n",
       "      <td>12/28/2016</td>\n",
       "      <td>JOHN B</td>\n",
       "    </tr>\n",
       "    <tr>\n",
       "      <th>4</th>\n",
       "      <td>201639059</td>\n",
       "      <td>2016-12-28T00:00:00Z</td>\n",
       "      <td>STRAY ANIMAL SECURED</td>\n",
       "      <td>299 VAN BUREN, BATON ROUGE, LA.</td>\n",
       "      <td>BATON ROUGE</td>\n",
       "      <td>70714.0</td>\n",
       "      <td>DOG</td>\n",
       "      <td>YORKSHIRE TERRIER</td>\n",
       "      <td>F</td>\n",
       "      <td>SMALL</td>\n",
       "      <td>...</td>\n",
       "      <td>EMACIATED</td>\n",
       "      <td>NORMAL</td>\n",
       "      <td>UNKNOWN</td>\n",
       "      <td>UNKNOWN</td>\n",
       "      <td>NaN</td>\n",
       "      <td>NaN</td>\n",
       "      <td>NaN</td>\n",
       "      <td>TRANS CAA</td>\n",
       "      <td>12/28/2016</td>\n",
       "      <td>SUE H</td>\n",
       "    </tr>\n",
       "  </tbody>\n",
       "</table>\n",
       "<p>5 rows × 54 columns</p>\n",
       "</div>"
      ],
      "text/plain": [
       "   file_number         incident_date          request_type  \\\n",
       "0    201639027  2016-12-27T00:00:00Z          CRUELTY CASE   \n",
       "1    201639044  2016-12-28T00:00:00Z        TRAPPED ANIMAL   \n",
       "2    201639036  2016-12-28T00:00:00Z  STRAY ANIMAL SECURED   \n",
       "3    201639042  2016-12-28T00:00:00Z         ABANDONED DOG   \n",
       "4    201639059  2016-12-28T00:00:00Z  STRAY ANIMAL SECURED   \n",
       "\n",
       "                                location municipality  zip_code   species  \\\n",
       "0        3366 SYCAMORE, BATON ROUGE, LA.  BATON ROUGE   70805.0       DOG   \n",
       "1  2582 WOODLAND RIDGE, BATON ROUGE, LA.  BATON ROUGE   70816.0  WILDLIFE   \n",
       "2                4463 MAIN, ZACHARY, LA.      ZACHARY   70791.0       DOG   \n",
       "3            2100 ERIE, BATON ROUGE, LA.  BATON ROUGE   70805.0       DOG   \n",
       "4        299 VAN BUREN, BATON ROUGE, LA.  BATON ROUGE   70714.0       DOG   \n",
       "\n",
       "               breed sex    size  ...  CONDITION TEMPERMENT   COLLAR  \\\n",
       "0            PITBULL   F   LARGE  ...       FAIR   FRIENDLY    NYLON   \n",
       "1             POSSUM   U   LARGE  ...       FAIR     NORMAL  UNKNOWN   \n",
       "2            PITBULL   M   LARGE  ...  EMACIATED   FRIENDLY  LEATHER   \n",
       "3    GERMAN SHEPHERD   F  MEDIUM  ...  EMACIATED   FRIENDLY  UNKNOWN   \n",
       "4  YORKSHIRE TERRIER   F   SMALL  ...  EMACIATED     NORMAL  UNKNOWN   \n",
       "\n",
       "  COLLAR COLOR  VACCINATION NUMBER  VACCINATION DATE  PET NAME  \\\n",
       "0          RED                 NaN               NaN       NaN   \n",
       "1      UNKNOWN                 NaN               NaN       NaN   \n",
       "2         PINK                 NaN               NaN       NaN   \n",
       "3      UNKNOWN                 NaN               NaN       NaN   \n",
       "4      UNKNOWN                 NaN               NaN       NaN   \n",
       "\n",
       "      DISPOSITION DISPOSITION DATE DISPOSITION OFFICER  \n",
       "0       TRANS CAA       12/27/2016             FRANK S  \n",
       "1  RETURN TO WILD       12/28/2016            TRAVIS R  \n",
       "2       TRANS CAA       12/28/2016             ISAAC S  \n",
       "3       TRANS CAA       12/28/2016              JOHN B  \n",
       "4       TRANS CAA       12/28/2016               SUE H  \n",
       "\n",
       "[5 rows x 54 columns]"
      ]
     },
     "execution_count": 6,
     "metadata": {},
     "output_type": "execute_result"
    }
   ],
   "source": [
    "# merge based on file number with inner join from the clean table.\n",
    "\n",
    "ac_full = pd.merge(ac_clean, ac_raw, left_on='file_number', right_on='FILE NUMBER', how='inner')\n",
    "ac_full.head()"
   ]
  },
  {
   "cell_type": "code",
   "execution_count": 7,
   "metadata": {},
   "outputs": [
    {
     "data": {
      "text/plain": [
       "(102635, 54)"
      ]
     },
     "execution_count": 7,
     "metadata": {},
     "output_type": "execute_result"
    }
   ],
   "source": [
    "#check shape\n",
    "ac_full.shape"
   ]
  },
  {
   "cell_type": "code",
   "execution_count": 8,
   "metadata": {},
   "outputs": [
    {
     "data": {
      "text/plain": [
       "file_number\n",
       "2014274530    72\n",
       "201862120     46\n",
       "2012232690    45\n",
       "201745155     30\n",
       "201752463     28\n",
       "              ..\n",
       "201739440      3\n",
       "201739661      3\n",
       "201739804      3\n",
       "201739805      3\n",
       "201739882      3\n",
       "Name: incident_date, Length: 1000, dtype: int64"
      ]
     },
     "execution_count": 8,
     "metadata": {},
     "output_type": "execute_result"
    }
   ],
   "source": [
    "# there seems to be a cartesian product.  Checking for duplicate file numbers in each file\n",
    "ac_clean.groupby(['file_number']).count()['incident_date'].nlargest(1000)"
   ]
  },
  {
   "cell_type": "code",
   "execution_count": 9,
   "metadata": {},
   "outputs": [
    {
     "data": {
      "text/html": [
       "<div>\n",
       "<style scoped>\n",
       "    .dataframe tbody tr th:only-of-type {\n",
       "        vertical-align: middle;\n",
       "    }\n",
       "\n",
       "    .dataframe tbody tr th {\n",
       "        vertical-align: top;\n",
       "    }\n",
       "\n",
       "    .dataframe thead th {\n",
       "        text-align: right;\n",
       "    }\n",
       "</style>\n",
       "<table border=\"1\" class=\"dataframe\">\n",
       "  <thead>\n",
       "    <tr style=\"text-align: right;\">\n",
       "      <th></th>\n",
       "      <th>file_number</th>\n",
       "      <th>incident_date</th>\n",
       "      <th>request_type</th>\n",
       "      <th>location</th>\n",
       "      <th>municipality</th>\n",
       "      <th>zip_code</th>\n",
       "      <th>species</th>\n",
       "      <th>breed</th>\n",
       "      <th>sex</th>\n",
       "      <th>size</th>\n",
       "      <th>age</th>\n",
       "      <th>condition</th>\n",
       "      <th>temperment</th>\n",
       "      <th>disposition</th>\n",
       "      <th>lat</th>\n",
       "      <th>long</th>\n",
       "    </tr>\n",
       "  </thead>\n",
       "  <tbody>\n",
       "    <tr>\n",
       "      <th>41662</th>\n",
       "      <td>201739804</td>\n",
       "      <td>2017-01-19T00:00:00Z</td>\n",
       "      <td>STRAY ANIMAL SECURED</td>\n",
       "      <td>15208 OLD SCENIC, BAKER, LA. 70714</td>\n",
       "      <td>BAKER</td>\n",
       "      <td>70714.0</td>\n",
       "      <td>CAT</td>\n",
       "      <td>DSH</td>\n",
       "      <td>U</td>\n",
       "      <td>UNKNOWN</td>\n",
       "      <td>NaN</td>\n",
       "      <td>FAIR</td>\n",
       "      <td>NORMAL</td>\n",
       "      <td>TRANS CAA</td>\n",
       "      <td>30.590448</td>\n",
       "      <td>-91.205236</td>\n",
       "    </tr>\n",
       "    <tr>\n",
       "      <th>41664</th>\n",
       "      <td>201739804</td>\n",
       "      <td>2017-01-19T00:00:00Z</td>\n",
       "      <td>STRAY ANIMAL SECURED</td>\n",
       "      <td>15208 OLD SCENIC, BAKER, LA. 70714</td>\n",
       "      <td>BAKER</td>\n",
       "      <td>70714.0</td>\n",
       "      <td>CAT</td>\n",
       "      <td>DMH</td>\n",
       "      <td>U</td>\n",
       "      <td>UNKNOWN</td>\n",
       "      <td>NaN</td>\n",
       "      <td>UNKNOWN</td>\n",
       "      <td>NORMAL</td>\n",
       "      <td>TRANS CAA</td>\n",
       "      <td>30.590448</td>\n",
       "      <td>-91.205236</td>\n",
       "    </tr>\n",
       "    <tr>\n",
       "      <th>41667</th>\n",
       "      <td>201739804</td>\n",
       "      <td>2017-01-19T00:00:00Z</td>\n",
       "      <td>STRAY ANIMAL SECURED</td>\n",
       "      <td>15208 OLD SCENIC, BAKER, LA. NA</td>\n",
       "      <td>BAKER</td>\n",
       "      <td>NaN</td>\n",
       "      <td>CAT</td>\n",
       "      <td>DMH</td>\n",
       "      <td>U</td>\n",
       "      <td>LARGE</td>\n",
       "      <td>NaN</td>\n",
       "      <td>FAIR</td>\n",
       "      <td>FRIENDLY</td>\n",
       "      <td>TRANS CAA</td>\n",
       "      <td>30.590448</td>\n",
       "      <td>-91.205236</td>\n",
       "    </tr>\n",
       "  </tbody>\n",
       "</table>\n",
       "</div>"
      ],
      "text/plain": [
       "       file_number         incident_date          request_type  \\\n",
       "41662    201739804  2017-01-19T00:00:00Z  STRAY ANIMAL SECURED   \n",
       "41664    201739804  2017-01-19T00:00:00Z  STRAY ANIMAL SECURED   \n",
       "41667    201739804  2017-01-19T00:00:00Z  STRAY ANIMAL SECURED   \n",
       "\n",
       "                                 location municipality  zip_code species  \\\n",
       "41662  15208 OLD SCENIC, BAKER, LA. 70714        BAKER   70714.0     CAT   \n",
       "41664  15208 OLD SCENIC, BAKER, LA. 70714        BAKER   70714.0     CAT   \n",
       "41667     15208 OLD SCENIC, BAKER, LA. NA        BAKER       NaN     CAT   \n",
       "\n",
       "      breed sex     size  age condition temperment disposition        lat  \\\n",
       "41662   DSH   U  UNKNOWN  NaN      FAIR     NORMAL   TRANS CAA  30.590448   \n",
       "41664   DMH   U  UNKNOWN  NaN   UNKNOWN     NORMAL   TRANS CAA  30.590448   \n",
       "41667   DMH   U    LARGE  NaN      FAIR   FRIENDLY   TRANS CAA  30.590448   \n",
       "\n",
       "            long  \n",
       "41662 -91.205236  \n",
       "41664 -91.205236  \n",
       "41667 -91.205236  "
      ]
     },
     "execution_count": 9,
     "metadata": {},
     "output_type": "execute_result"
    }
   ],
   "source": [
    "#view a specific example\n",
    "ac_clean[ac_clean['file_number'] == 201739804] "
   ]
  },
  {
   "cell_type": "markdown",
   "metadata": {},
   "source": [
    "### Problem\n",
    "It looks like if multiple animals are picked up at an incident, there are more than one observation for the file number, this will make merging the datasets difficult.  There are no other identifying facters that would be considered unique so joining the datasets on the file number will not work.  To combat this, I can extract the latitude and longitude to a separate dataset with the file number and location to reference from the raw dataset.  "
   ]
  },
  {
   "cell_type": "code",
   "execution_count": 10,
   "metadata": {},
   "outputs": [
    {
     "data": {
      "text/plain": [
       "(   file_number                               location        lat       long\n",
       " 0    201639027        3366 SYCAMORE, BATON ROUGE, LA.  30.494640 -91.156160\n",
       " 1    201639044  2582 WOODLAND RIDGE, BATON ROUGE, LA.  30.431417 -91.141070\n",
       " 2    201639036                4463 MAIN, ZACHARY, LA.  30.648540 -91.156770\n",
       " 3    201639042            2100 ERIE, BATON ROUGE, LA.  30.476015 -91.168460\n",
       " 4    201639059        299 VAN BUREN, BATON ROUGE, LA.  30.429104 -91.185036,\n",
       " (52585, 4))"
      ]
     },
     "execution_count": 10,
     "metadata": {},
     "output_type": "execute_result"
    }
   ],
   "source": [
    "# extract geocoded location information\n",
    "ac_geo_info = ac_clean[['file_number', 'location', 'zip_code','lat','long']]\n",
    "ac_geo_info.head(), ac_geo_info.shape"
   ]
  },
  {
   "cell_type": "code",
   "execution_count": 11,
   "metadata": {},
   "outputs": [
    {
     "data": {
      "text/plain": [
       "(44164, 4)"
      ]
     },
     "execution_count": 11,
     "metadata": {},
     "output_type": "execute_result"
    }
   ],
   "source": [
    "# drop duplicates and verify shape \n",
    "ac_geo_info = ac_geo_info.drop_duplicates()\n",
    "ac_geo_info.shape "
   ]
  },
  {
   "cell_type": "code",
   "execution_count": 12,
   "metadata": {},
   "outputs": [],
   "source": [
    "#save the geocoded references\n",
    "ac_geo_info.to_csv('../Data/geocoded_locations.csv', header=True, index=False)"
   ]
  },
  {
   "cell_type": "markdown",
   "metadata": {},
   "source": [
    "###  View statistics on columns to determine additional cleanup "
   ]
  },
  {
   "cell_type": "code",
   "execution_count": 13,
   "metadata": {},
   "outputs": [
    {
     "name": "stdout",
     "output_type": "stream",
     "text": [
      "<class 'pandas.core.frame.DataFrame'>\n",
      "RangeIndex: 95329 entries, 0 to 95328\n",
      "Data columns (total 38 columns):\n",
      " #   Column                Non-Null Count  Dtype  \n",
      "---  ------                --------------  -----  \n",
      " 0   FILE NUMBER           95329 non-null  int64  \n",
      " 1   INCIDENT DATE         95329 non-null  object \n",
      " 2   INCIDENT TIME         94844 non-null  object \n",
      " 3   DISPATCHED TIME       84573 non-null  object \n",
      " 4   CALL TAKER            75160 non-null  object \n",
      " 5   DISPATCHER            82265 non-null  object \n",
      " 6   DISPATCHED OTHER      95329 non-null  int64  \n",
      " 7   DISPATCHED SITUATION  84563 non-null  object \n",
      " 8   ARRIVAL TIME          83869 non-null  object \n",
      " 9   AVAILABLE TIME        84571 non-null  object \n",
      " 10  COMPLAINANT STREET    95273 non-null  object \n",
      " 11  REQUEST TYPE          62167 non-null  object \n",
      " 12  OFFICER               83261 non-null  object \n",
      " 13  EQUIPMENT NUMBER      80390 non-null  object \n",
      " 14  REMARKS               2098 non-null   object \n",
      " 15  IMPOUND NUMBER        53199 non-null  float64\n",
      " 16  IMPOUND DATE          53194 non-null  object \n",
      " 17  IMPOUND TIME          53135 non-null  object \n",
      " 18  LOCATION              52956 non-null  object \n",
      " 19  MUNICIPALITY          53195 non-null  object \n",
      " 20  ZIP CODE              24310 non-null  float64\n",
      " 21  SERVICE CODE          53199 non-null  object \n",
      " 22  SPECIES               53177 non-null  object \n",
      " 23  BREED                 52371 non-null  object \n",
      " 24  SEX                   40731 non-null  object \n",
      " 25  SIZE                  51904 non-null  object \n",
      " 26  COLOR                 51843 non-null  object \n",
      " 27  AGE                   33217 non-null  float64\n",
      " 28  CONDITION             50967 non-null  object \n",
      " 29  TEMPERMENT            51575 non-null  object \n",
      " 30  COLLAR                25055 non-null  object \n",
      " 31  COLLAR COLOR          24538 non-null  object \n",
      " 32  VACCINATION NUMBER    600 non-null    object \n",
      " 33  VACCINATION DATE      348 non-null    object \n",
      " 34  PET NAME              1014 non-null   object \n",
      " 35  DISPOSITION           53192 non-null  object \n",
      " 36  DISPOSITION DATE      38610 non-null  object \n",
      " 37  DISPOSITION OFFICER   52412 non-null  object \n",
      "dtypes: float64(3), int64(2), object(33)\n",
      "memory usage: 27.6+ MB\n"
     ]
    }
   ],
   "source": [
    "ac_raw.info()\n"
   ]
  },
  {
   "cell_type": "code",
   "execution_count": 14,
   "metadata": {
    "scrolled": true
   },
   "outputs": [
    {
     "data": {
      "text/html": [
       "<div>\n",
       "<style scoped>\n",
       "    .dataframe tbody tr th:only-of-type {\n",
       "        vertical-align: middle;\n",
       "    }\n",
       "\n",
       "    .dataframe tbody tr th {\n",
       "        vertical-align: top;\n",
       "    }\n",
       "\n",
       "    .dataframe thead th {\n",
       "        text-align: right;\n",
       "    }\n",
       "</style>\n",
       "<table border=\"1\" class=\"dataframe\">\n",
       "  <thead>\n",
       "    <tr style=\"text-align: right;\">\n",
       "      <th></th>\n",
       "      <th>file_number</th>\n",
       "      <th>incident_date</th>\n",
       "      <th>incident_time</th>\n",
       "      <th>dispatched_time</th>\n",
       "      <th>call_taker</th>\n",
       "      <th>dispatcher</th>\n",
       "      <th>dispatched_other</th>\n",
       "      <th>dispatched_situation</th>\n",
       "      <th>arrival_time</th>\n",
       "      <th>available_time</th>\n",
       "      <th>...</th>\n",
       "      <th>condition</th>\n",
       "      <th>temperment</th>\n",
       "      <th>collar</th>\n",
       "      <th>collar_color</th>\n",
       "      <th>vaccination_number</th>\n",
       "      <th>vaccination_date</th>\n",
       "      <th>pet_name</th>\n",
       "      <th>disposition</th>\n",
       "      <th>disposition_date</th>\n",
       "      <th>disposition_officer</th>\n",
       "    </tr>\n",
       "  </thead>\n",
       "  <tbody>\n",
       "    <tr>\n",
       "      <th>0</th>\n",
       "      <td>201639027</td>\n",
       "      <td>12/27/2016</td>\n",
       "      <td>15:30</td>\n",
       "      <td>16:06</td>\n",
       "      <td>UNKNOWN</td>\n",
       "      <td>JENNIFER G</td>\n",
       "      <td>0</td>\n",
       "      <td>D</td>\n",
       "      <td>16:17</td>\n",
       "      <td>16:38</td>\n",
       "      <td>...</td>\n",
       "      <td>FAIR</td>\n",
       "      <td>FRIENDLY</td>\n",
       "      <td>NYLON</td>\n",
       "      <td>RED</td>\n",
       "      <td>NaN</td>\n",
       "      <td>NaN</td>\n",
       "      <td>NaN</td>\n",
       "      <td>TRANS CAA</td>\n",
       "      <td>12/27/2016</td>\n",
       "      <td>FRANK S</td>\n",
       "    </tr>\n",
       "    <tr>\n",
       "      <th>1</th>\n",
       "      <td>201639044</td>\n",
       "      <td>12/28/2016</td>\n",
       "      <td>10:06</td>\n",
       "      <td>10:07</td>\n",
       "      <td>UNKNOWN</td>\n",
       "      <td>JENNIFER G</td>\n",
       "      <td>0</td>\n",
       "      <td>D</td>\n",
       "      <td>10:15</td>\n",
       "      <td>10:23</td>\n",
       "      <td>...</td>\n",
       "      <td>FAIR</td>\n",
       "      <td>NORMAL</td>\n",
       "      <td>UNKNOWN</td>\n",
       "      <td>UNKNOWN</td>\n",
       "      <td>NaN</td>\n",
       "      <td>NaN</td>\n",
       "      <td>NaN</td>\n",
       "      <td>RETURN TO WILD</td>\n",
       "      <td>12/28/2016</td>\n",
       "      <td>TRAVIS R</td>\n",
       "    </tr>\n",
       "    <tr>\n",
       "      <th>2</th>\n",
       "      <td>201639036</td>\n",
       "      <td>12/28/2016</td>\n",
       "      <td>09:03</td>\n",
       "      <td>09:03</td>\n",
       "      <td>UNKNOWN</td>\n",
       "      <td>JENNIFER G</td>\n",
       "      <td>0</td>\n",
       "      <td>D</td>\n",
       "      <td>09:27</td>\n",
       "      <td>09:45</td>\n",
       "      <td>...</td>\n",
       "      <td>EMACIATED</td>\n",
       "      <td>FRIENDLY</td>\n",
       "      <td>LEATHER</td>\n",
       "      <td>PINK</td>\n",
       "      <td>NaN</td>\n",
       "      <td>NaN</td>\n",
       "      <td>NaN</td>\n",
       "      <td>TRANS CAA</td>\n",
       "      <td>12/28/2016</td>\n",
       "      <td>ISAAC S</td>\n",
       "    </tr>\n",
       "    <tr>\n",
       "      <th>3</th>\n",
       "      <td>202087899</td>\n",
       "      <td>08/30/2020</td>\n",
       "      <td>13:39</td>\n",
       "      <td>00:00</td>\n",
       "      <td>UNKNOWN</td>\n",
       "      <td>UNKNOWN</td>\n",
       "      <td>0</td>\n",
       "      <td>D</td>\n",
       "      <td>00:00</td>\n",
       "      <td>16:52</td>\n",
       "      <td>...</td>\n",
       "      <td>NaN</td>\n",
       "      <td>NaN</td>\n",
       "      <td>NaN</td>\n",
       "      <td>NaN</td>\n",
       "      <td>NaN</td>\n",
       "      <td>NaN</td>\n",
       "      <td>NaN</td>\n",
       "      <td>NaN</td>\n",
       "      <td>NaN</td>\n",
       "      <td>NaN</td>\n",
       "    </tr>\n",
       "    <tr>\n",
       "      <th>4</th>\n",
       "      <td>201639059</td>\n",
       "      <td>12/28/2016</td>\n",
       "      <td>15:05</td>\n",
       "      <td>15:45</td>\n",
       "      <td>UNKNOWN</td>\n",
       "      <td>JENNIFER G</td>\n",
       "      <td>0</td>\n",
       "      <td>D</td>\n",
       "      <td>16:07</td>\n",
       "      <td>16:25</td>\n",
       "      <td>...</td>\n",
       "      <td>EMACIATED</td>\n",
       "      <td>NORMAL</td>\n",
       "      <td>UNKNOWN</td>\n",
       "      <td>UNKNOWN</td>\n",
       "      <td>NaN</td>\n",
       "      <td>NaN</td>\n",
       "      <td>NaN</td>\n",
       "      <td>TRANS CAA</td>\n",
       "      <td>12/28/2016</td>\n",
       "      <td>SUE H</td>\n",
       "    </tr>\n",
       "  </tbody>\n",
       "</table>\n",
       "<p>5 rows × 38 columns</p>\n",
       "</div>"
      ],
      "text/plain": [
       "   file_number incident_date incident_time dispatched_time call_taker  \\\n",
       "0    201639027    12/27/2016         15:30           16:06    UNKNOWN   \n",
       "1    201639044    12/28/2016         10:06           10:07    UNKNOWN   \n",
       "2    201639036    12/28/2016         09:03           09:03    UNKNOWN   \n",
       "3    202087899    08/30/2020         13:39           00:00    UNKNOWN   \n",
       "4    201639059    12/28/2016         15:05           15:45    UNKNOWN   \n",
       "\n",
       "   dispatcher  dispatched_other dispatched_situation arrival_time  \\\n",
       "0  JENNIFER G                 0                    D        16:17   \n",
       "1  JENNIFER G                 0                    D        10:15   \n",
       "2  JENNIFER G                 0                    D        09:27   \n",
       "3     UNKNOWN                 0                    D        00:00   \n",
       "4  JENNIFER G                 0                    D        16:07   \n",
       "\n",
       "  available_time  ...  condition temperment   collar collar_color  \\\n",
       "0          16:38  ...       FAIR   FRIENDLY    NYLON          RED   \n",
       "1          10:23  ...       FAIR     NORMAL  UNKNOWN      UNKNOWN   \n",
       "2          09:45  ...  EMACIATED   FRIENDLY  LEATHER         PINK   \n",
       "3          16:52  ...        NaN        NaN      NaN          NaN   \n",
       "4          16:25  ...  EMACIATED     NORMAL  UNKNOWN      UNKNOWN   \n",
       "\n",
       "  vaccination_number  vaccination_date pet_name     disposition  \\\n",
       "0                NaN               NaN      NaN       TRANS CAA   \n",
       "1                NaN               NaN      NaN  RETURN TO WILD   \n",
       "2                NaN               NaN      NaN       TRANS CAA   \n",
       "3                NaN               NaN      NaN             NaN   \n",
       "4                NaN               NaN      NaN       TRANS CAA   \n",
       "\n",
       "  disposition_date disposition_officer  \n",
       "0       12/27/2016             FRANK S  \n",
       "1       12/28/2016            TRAVIS R  \n",
       "2       12/28/2016             ISAAC S  \n",
       "3              NaN                 NaN  \n",
       "4       12/28/2016               SUE H  \n",
       "\n",
       "[5 rows x 38 columns]"
      ]
     },
     "execution_count": 14,
     "metadata": {},
     "output_type": "execute_result"
    }
   ],
   "source": [
    "#rename columns to remove spaces and uppercase to make it easier to work with\n",
    "new_columns = ac_raw.columns\n",
    "new_columns = list(map(str.lower, new_columns.str.replace(' ','_')))\n",
    "ac_raw.columns = new_columns\n",
    "ac_raw.head()"
   ]
  },
  {
   "cell_type": "code",
   "execution_count": 15,
   "metadata": {},
   "outputs": [
    {
     "data": {
      "text/html": [
       "<div>\n",
       "<style scoped>\n",
       "    .dataframe tbody tr th:only-of-type {\n",
       "        vertical-align: middle;\n",
       "    }\n",
       "\n",
       "    .dataframe tbody tr th {\n",
       "        vertical-align: top;\n",
       "    }\n",
       "\n",
       "    .dataframe thead th {\n",
       "        text-align: right;\n",
       "    }\n",
       "</style>\n",
       "<table border=\"1\" class=\"dataframe\">\n",
       "  <thead>\n",
       "    <tr style=\"text-align: right;\">\n",
       "      <th></th>\n",
       "      <th>count</th>\n",
       "      <th>unique</th>\n",
       "      <th>top</th>\n",
       "      <th>freq</th>\n",
       "    </tr>\n",
       "  </thead>\n",
       "  <tbody>\n",
       "    <tr>\n",
       "      <th>incident_date</th>\n",
       "      <td>95329</td>\n",
       "      <td>2877</td>\n",
       "      <td>07/17/2017</td>\n",
       "      <td>133</td>\n",
       "    </tr>\n",
       "    <tr>\n",
       "      <th>incident_time</th>\n",
       "      <td>94844</td>\n",
       "      <td>1622</td>\n",
       "      <td>08:11</td>\n",
       "      <td>438</td>\n",
       "    </tr>\n",
       "    <tr>\n",
       "      <th>dispatched_time</th>\n",
       "      <td>84573</td>\n",
       "      <td>1091</td>\n",
       "      <td>00:00</td>\n",
       "      <td>6602</td>\n",
       "    </tr>\n",
       "    <tr>\n",
       "      <th>call_taker</th>\n",
       "      <td>75160</td>\n",
       "      <td>74</td>\n",
       "      <td>UNKNOWN</td>\n",
       "      <td>49057</td>\n",
       "    </tr>\n",
       "    <tr>\n",
       "      <th>dispatcher</th>\n",
       "      <td>82265</td>\n",
       "      <td>21</td>\n",
       "      <td>JENNIFER G</td>\n",
       "      <td>46445</td>\n",
       "    </tr>\n",
       "    <tr>\n",
       "      <th>dispatched_situation</th>\n",
       "      <td>84563</td>\n",
       "      <td>5</td>\n",
       "      <td>D</td>\n",
       "      <td>78108</td>\n",
       "    </tr>\n",
       "    <tr>\n",
       "      <th>arrival_time</th>\n",
       "      <td>83869</td>\n",
       "      <td>1078</td>\n",
       "      <td>00:00</td>\n",
       "      <td>8699</td>\n",
       "    </tr>\n",
       "    <tr>\n",
       "      <th>available_time</th>\n",
       "      <td>84571</td>\n",
       "      <td>1090</td>\n",
       "      <td>00:00</td>\n",
       "      <td>6140</td>\n",
       "    </tr>\n",
       "    <tr>\n",
       "      <th>complainant_street_</th>\n",
       "      <td>95273</td>\n",
       "      <td>7858</td>\n",
       "      <td>GREENWELL SPRINGS RD</td>\n",
       "      <td>991</td>\n",
       "    </tr>\n",
       "    <tr>\n",
       "      <th>request_type</th>\n",
       "      <td>62167</td>\n",
       "      <td>49</td>\n",
       "      <td>UNKNOWN</td>\n",
       "      <td>9148</td>\n",
       "    </tr>\n",
       "    <tr>\n",
       "      <th>officer</th>\n",
       "      <td>83261</td>\n",
       "      <td>80</td>\n",
       "      <td>UNKNOWN</td>\n",
       "      <td>19890</td>\n",
       "    </tr>\n",
       "    <tr>\n",
       "      <th>equipment_number</th>\n",
       "      <td>80390</td>\n",
       "      <td>69</td>\n",
       "      <td>AC04</td>\n",
       "      <td>9107</td>\n",
       "    </tr>\n",
       "    <tr>\n",
       "      <th>remarks</th>\n",
       "      <td>2098</td>\n",
       "      <td>977</td>\n",
       "      <td>RTW</td>\n",
       "      <td>210</td>\n",
       "    </tr>\n",
       "    <tr>\n",
       "      <th>impound_date</th>\n",
       "      <td>53194</td>\n",
       "      <td>2812</td>\n",
       "      <td>05/25/2014</td>\n",
       "      <td>73</td>\n",
       "    </tr>\n",
       "    <tr>\n",
       "      <th>impound_time</th>\n",
       "      <td>53135</td>\n",
       "      <td>1731</td>\n",
       "      <td>10:30</td>\n",
       "      <td>278</td>\n",
       "    </tr>\n",
       "    <tr>\n",
       "      <th>location</th>\n",
       "      <td>52956</td>\n",
       "      <td>27500</td>\n",
       "      <td>2680 PROGRESS</td>\n",
       "      <td>296</td>\n",
       "    </tr>\n",
       "    <tr>\n",
       "      <th>municipality_</th>\n",
       "      <td>53195</td>\n",
       "      <td>6</td>\n",
       "      <td>BATON ROUGE</td>\n",
       "      <td>48268</td>\n",
       "    </tr>\n",
       "    <tr>\n",
       "      <th>service_code</th>\n",
       "      <td>53199</td>\n",
       "      <td>27</td>\n",
       "      <td>TRAPPED ANIMAL</td>\n",
       "      <td>17667</td>\n",
       "    </tr>\n",
       "    <tr>\n",
       "      <th>species</th>\n",
       "      <td>53177</td>\n",
       "      <td>11</td>\n",
       "      <td>DOG</td>\n",
       "      <td>26898</td>\n",
       "    </tr>\n",
       "    <tr>\n",
       "      <th>breed</th>\n",
       "      <td>52371</td>\n",
       "      <td>186</td>\n",
       "      <td>DSH</td>\n",
       "      <td>11698</td>\n",
       "    </tr>\n",
       "    <tr>\n",
       "      <th>sex</th>\n",
       "      <td>40731</td>\n",
       "      <td>9</td>\n",
       "      <td>M</td>\n",
       "      <td>14395</td>\n",
       "    </tr>\n",
       "    <tr>\n",
       "      <th>size</th>\n",
       "      <td>51904</td>\n",
       "      <td>5</td>\n",
       "      <td>MEDIUM</td>\n",
       "      <td>23415</td>\n",
       "    </tr>\n",
       "    <tr>\n",
       "      <th>color</th>\n",
       "      <td>51843</td>\n",
       "      <td>2210</td>\n",
       "      <td>BLK</td>\n",
       "      <td>4089</td>\n",
       "    </tr>\n",
       "    <tr>\n",
       "      <th>condition</th>\n",
       "      <td>50967</td>\n",
       "      <td>6</td>\n",
       "      <td>FAIR</td>\n",
       "      <td>34897</td>\n",
       "    </tr>\n",
       "    <tr>\n",
       "      <th>temperment</th>\n",
       "      <td>51575</td>\n",
       "      <td>6</td>\n",
       "      <td>NORMAL</td>\n",
       "      <td>24684</td>\n",
       "    </tr>\n",
       "    <tr>\n",
       "      <th>collar</th>\n",
       "      <td>25055</td>\n",
       "      <td>110</td>\n",
       "      <td>UNKNOWN</td>\n",
       "      <td>16069</td>\n",
       "    </tr>\n",
       "    <tr>\n",
       "      <th>collar_color</th>\n",
       "      <td>24538</td>\n",
       "      <td>17</td>\n",
       "      <td>UNKNOWN</td>\n",
       "      <td>16819</td>\n",
       "    </tr>\n",
       "    <tr>\n",
       "      <th>vaccination_number</th>\n",
       "      <td>600</td>\n",
       "      <td>573</td>\n",
       "      <td>NONE</td>\n",
       "      <td>6</td>\n",
       "    </tr>\n",
       "    <tr>\n",
       "      <th>vaccination_date</th>\n",
       "      <td>348</td>\n",
       "      <td>310</td>\n",
       "      <td>09/03/2014 12:00:00 AM</td>\n",
       "      <td>6</td>\n",
       "    </tr>\n",
       "    <tr>\n",
       "      <th>pet_name</th>\n",
       "      <td>1014</td>\n",
       "      <td>635</td>\n",
       "      <td>COCO</td>\n",
       "      <td>17</td>\n",
       "    </tr>\n",
       "    <tr>\n",
       "      <th>disposition</th>\n",
       "      <td>53192</td>\n",
       "      <td>7</td>\n",
       "      <td>TRANS CAA</td>\n",
       "      <td>39834</td>\n",
       "    </tr>\n",
       "    <tr>\n",
       "      <th>disposition_date</th>\n",
       "      <td>38610</td>\n",
       "      <td>2220</td>\n",
       "      <td>05/25/2014</td>\n",
       "      <td>73</td>\n",
       "    </tr>\n",
       "    <tr>\n",
       "      <th>disposition_officer</th>\n",
       "      <td>52412</td>\n",
       "      <td>74</td>\n",
       "      <td>SW1</td>\n",
       "      <td>19708</td>\n",
       "    </tr>\n",
       "  </tbody>\n",
       "</table>\n",
       "</div>"
      ],
      "text/plain": [
       "                      count unique                     top   freq\n",
       "incident_date         95329   2877              07/17/2017    133\n",
       "incident_time         94844   1622                   08:11    438\n",
       "dispatched_time       84573   1091                   00:00   6602\n",
       "call_taker            75160     74                 UNKNOWN  49057\n",
       "dispatcher            82265     21              JENNIFER G  46445\n",
       "dispatched_situation  84563      5                       D  78108\n",
       "arrival_time          83869   1078                   00:00   8699\n",
       "available_time        84571   1090                   00:00   6140\n",
       "complainant_street_   95273   7858    GREENWELL SPRINGS RD    991\n",
       "request_type          62167     49                 UNKNOWN   9148\n",
       "officer               83261     80                 UNKNOWN  19890\n",
       "equipment_number      80390     69                    AC04   9107\n",
       "remarks                2098    977                     RTW    210\n",
       "impound_date          53194   2812              05/25/2014     73\n",
       "impound_time          53135   1731                   10:30    278\n",
       "location              52956  27500           2680 PROGRESS    296\n",
       "municipality_         53195      6             BATON ROUGE  48268\n",
       "service_code          53199     27          TRAPPED ANIMAL  17667\n",
       "species               53177     11                     DOG  26898\n",
       "breed                 52371    186                     DSH  11698\n",
       "sex                   40731      9                       M  14395\n",
       "size                  51904      5                  MEDIUM  23415\n",
       "color                 51843   2210                     BLK   4089\n",
       "condition             50967      6                    FAIR  34897\n",
       "temperment            51575      6                  NORMAL  24684\n",
       "collar                25055    110                 UNKNOWN  16069\n",
       "collar_color          24538     17                 UNKNOWN  16819\n",
       "vaccination_number      600    573                    NONE      6\n",
       "vaccination_date        348    310  09/03/2014 12:00:00 AM      6\n",
       "pet_name               1014    635                    COCO     17\n",
       "disposition           53192      7               TRANS CAA  39834\n",
       "disposition_date      38610   2220              05/25/2014     73\n",
       "disposition_officer   52412     74                     SW1  19708"
      ]
     },
     "execution_count": 15,
     "metadata": {},
     "output_type": "execute_result"
    }
   ],
   "source": [
    "# view summary statistics for each column\n",
    "ac_summary = ac_raw.describe(include=np.object).T\n",
    "ac_summary"
   ]
  },
  {
   "cell_type": "code",
   "execution_count": 16,
   "metadata": {
    "scrolled": true
   },
   "outputs": [
    {
     "data": {
      "text/html": [
       "<div>\n",
       "<style scoped>\n",
       "    .dataframe tbody tr th:only-of-type {\n",
       "        vertical-align: middle;\n",
       "    }\n",
       "\n",
       "    .dataframe tbody tr th {\n",
       "        vertical-align: top;\n",
       "    }\n",
       "\n",
       "    .dataframe thead th {\n",
       "        text-align: right;\n",
       "    }\n",
       "</style>\n",
       "<table border=\"1\" class=\"dataframe\">\n",
       "  <thead>\n",
       "    <tr style=\"text-align: right;\">\n",
       "      <th></th>\n",
       "      <th>count</th>\n",
       "      <th>mean</th>\n",
       "      <th>std</th>\n",
       "      <th>min</th>\n",
       "      <th>25%</th>\n",
       "      <th>50%</th>\n",
       "      <th>75%</th>\n",
       "      <th>max</th>\n",
       "    </tr>\n",
       "  </thead>\n",
       "  <tbody>\n",
       "    <tr>\n",
       "      <th>file_number</th>\n",
       "      <td>95329.0</td>\n",
       "      <td>8.321673e+08</td>\n",
       "      <td>8.630312e+08</td>\n",
       "      <td>201629133.0</td>\n",
       "      <td>201751156.0</td>\n",
       "      <td>201973420.0</td>\n",
       "      <td>2.013248e+09</td>\n",
       "      <td>2.016307e+09</td>\n",
       "    </tr>\n",
       "    <tr>\n",
       "      <th>dispatched_other</th>\n",
       "      <td>95329.0</td>\n",
       "      <td>1.560910e-02</td>\n",
       "      <td>1.239581e-01</td>\n",
       "      <td>0.0</td>\n",
       "      <td>0.0</td>\n",
       "      <td>0.0</td>\n",
       "      <td>0.000000e+00</td>\n",
       "      <td>1.000000e+00</td>\n",
       "    </tr>\n",
       "    <tr>\n",
       "      <th>impound_number</th>\n",
       "      <td>53199.0</td>\n",
       "      <td>6.092900e+04</td>\n",
       "      <td>8.762242e+05</td>\n",
       "      <td>0.0</td>\n",
       "      <td>37425.5</td>\n",
       "      <td>55076.0</td>\n",
       "      <td>7.558750e+04</td>\n",
       "      <td>2.018633e+08</td>\n",
       "    </tr>\n",
       "    <tr>\n",
       "      <th>zip_code</th>\n",
       "      <td>24310.0</td>\n",
       "      <td>7.080073e+04</td>\n",
       "      <td>2.191823e+02</td>\n",
       "      <td>55887.0</td>\n",
       "      <td>70803.0</td>\n",
       "      <td>70807.0</td>\n",
       "      <td>7.081400e+04</td>\n",
       "      <td>7.801400e+04</td>\n",
       "    </tr>\n",
       "    <tr>\n",
       "      <th>age</th>\n",
       "      <td>33217.0</td>\n",
       "      <td>2.318090e-02</td>\n",
       "      <td>4.350987e-01</td>\n",
       "      <td>0.0</td>\n",
       "      <td>0.0</td>\n",
       "      <td>0.0</td>\n",
       "      <td>0.000000e+00</td>\n",
       "      <td>1.700000e+01</td>\n",
       "    </tr>\n",
       "  </tbody>\n",
       "</table>\n",
       "</div>"
      ],
      "text/plain": [
       "                    count          mean           std          min  \\\n",
       "file_number       95329.0  8.321673e+08  8.630312e+08  201629133.0   \n",
       "dispatched_other  95329.0  1.560910e-02  1.239581e-01          0.0   \n",
       "impound_number    53199.0  6.092900e+04  8.762242e+05          0.0   \n",
       "zip_code          24310.0  7.080073e+04  2.191823e+02      55887.0   \n",
       "age               33217.0  2.318090e-02  4.350987e-01          0.0   \n",
       "\n",
       "                          25%          50%           75%           max  \n",
       "file_number       201751156.0  201973420.0  2.013248e+09  2.016307e+09  \n",
       "dispatched_other          0.0          0.0  0.000000e+00  1.000000e+00  \n",
       "impound_number        37425.5      55076.0  7.558750e+04  2.018633e+08  \n",
       "zip_code              70803.0      70807.0  7.081400e+04  7.801400e+04  \n",
       "age                       0.0          0.0  0.000000e+00  1.700000e+01  "
      ]
     },
     "execution_count": 16,
     "metadata": {},
     "output_type": "execute_result"
    }
   ],
   "source": [
    "ac_raw.describe().T"
   ]
  },
  {
   "cell_type": "code",
   "execution_count": 17,
   "metadata": {},
   "outputs": [
    {
     "data": {
      "text/html": [
       "<div>\n",
       "<style scoped>\n",
       "    .dataframe tbody tr th:only-of-type {\n",
       "        vertical-align: middle;\n",
       "    }\n",
       "\n",
       "    .dataframe tbody tr th {\n",
       "        vertical-align: top;\n",
       "    }\n",
       "\n",
       "    .dataframe thead th {\n",
       "        text-align: right;\n",
       "    }\n",
       "</style>\n",
       "<table border=\"1\" class=\"dataframe\">\n",
       "  <thead>\n",
       "    <tr style=\"text-align: right;\">\n",
       "      <th></th>\n",
       "      <th>file_number</th>\n",
       "      <th>incident_date</th>\n",
       "      <th>incident_time</th>\n",
       "      <th>dispatched_time</th>\n",
       "      <th>call_taker</th>\n",
       "      <th>dispatcher</th>\n",
       "      <th>dispatched_other</th>\n",
       "      <th>dispatched_situation</th>\n",
       "      <th>arrival_time</th>\n",
       "      <th>available_time</th>\n",
       "      <th>...</th>\n",
       "      <th>condition</th>\n",
       "      <th>temperment</th>\n",
       "      <th>collar</th>\n",
       "      <th>collar_color</th>\n",
       "      <th>vaccination_number</th>\n",
       "      <th>vaccination_date</th>\n",
       "      <th>pet_name</th>\n",
       "      <th>disposition</th>\n",
       "      <th>disposition_date</th>\n",
       "      <th>disposition_officer</th>\n",
       "    </tr>\n",
       "  </thead>\n",
       "  <tbody>\n",
       "  </tbody>\n",
       "</table>\n",
       "<p>0 rows × 38 columns</p>\n",
       "</div>"
      ],
      "text/plain": [
       "Empty DataFrame\n",
       "Columns: [file_number, incident_date, incident_time, dispatched_time, call_taker, dispatcher, dispatched_other, dispatched_situation, arrival_time, available_time, complainant_street_, request_type, officer, equipment_number, remarks, impound_number, impound_date, impound_time, location, municipality_, zip_code, service_code, species, breed, sex, size, color, age, condition, temperment, collar, collar_color, vaccination_number, vaccination_date, pet_name, disposition, disposition_date, disposition_officer]\n",
       "Index: []\n",
       "\n",
       "[0 rows x 38 columns]"
      ]
     },
     "execution_count": 17,
     "metadata": {},
     "output_type": "execute_result"
    }
   ],
   "source": [
    "# account for missing time values - causing an error when converting to date time format\n",
    "ac_raw = ac_raw.replace(':', '00:00')\n",
    "ac_raw[ac_raw['dispatched_time'] == ':']"
   ]
  },
  {
   "cell_type": "code",
   "execution_count": 18,
   "metadata": {},
   "outputs": [],
   "source": [
    "#combine dates and times for data points to make them easier to work with\n",
    "\n",
    "ac_raw['incident_datetime'] = ac_raw['incident_date'].str.cat(ac_raw['incident_time'], sep =\" \")\n",
    "ac_raw['dispatched_datetime'] = ac_raw['incident_date'].str.cat(ac_raw['dispatched_time'], sep =\" \")\n",
    "ac_raw['arrival_datetime'] = ac_raw['incident_date'].str.cat(ac_raw['arrival_time'], sep =\" \")\n",
    "ac_raw['available_datetime'] = ac_raw['incident_date'].str.cat(ac_raw['available_time'], sep =\" \")\n",
    "ac_raw['impound_datetime'] = ac_raw['impound_date'].str.cat(ac_raw['impound_time'], sep =\" \")"
   ]
  },
  {
   "cell_type": "code",
   "execution_count": 19,
   "metadata": {},
   "outputs": [
    {
     "data": {
      "text/plain": [
       "0    12/27/2016 15:30\n",
       "1    12/28/2016 10:06\n",
       "2    12/28/2016 09:03\n",
       "3    08/30/2020 13:39\n",
       "4    12/28/2016 15:05\n",
       "Name: incident_datetime, dtype: object"
      ]
     },
     "execution_count": 19,
     "metadata": {},
     "output_type": "execute_result"
    }
   ],
   "source": [
    "ac_raw['incident_datetime'].head()"
   ]
  },
  {
   "cell_type": "code",
   "execution_count": 20,
   "metadata": {},
   "outputs": [],
   "source": [
    "# convert datetimes: incident_date, incident_time, dispatched_time, arrival_time, available_time, impound_date, impound_time, vaccination_date, disposition_date\n",
    "# get min and max date times\n",
    "ac_raw['incident_datetime'] = ac_raw['incident_datetime'].apply(pd.to_datetime, format='%m/%d/%Y %H:%M')\n",
    "ac_raw['dispatched_datetime'] = ac_raw['dispatched_datetime'].apply(pd.to_datetime, format='%m/%d/%Y %H:%M')\n",
    "ac_raw['arrival_datetime'] = ac_raw['arrival_datetime'].apply(pd.to_datetime, format='%m/%d/%Y %H:%M')\n",
    "ac_raw['available_datetime'] = ac_raw['available_datetime'].apply(pd.to_datetime, format='%m/%d/%Y %H:%M', errors='coerce')\n",
    "ac_raw['impound_datetime']=ac_raw['impound_datetime'].apply(pd.to_datetime, format='%m/%d/%Y %H:%M', errors='coerce')\n",
    "ac_raw['disposition_date'] = ac_raw['disposition_date'].apply(pd.to_datetime, format='%m/%d/%Y', errors='coerce')\n",
    "ac_raw['vaccination_date'] = ac_raw['vaccination_date'].apply(pd.to_datetime, format='%m/%d/%Y %H:%M:%S %p', errors='coerce')"
   ]
  },
  {
   "cell_type": "code",
   "execution_count": 21,
   "metadata": {},
   "outputs": [
    {
     "data": {
      "text/html": [
       "<div>\n",
       "<style scoped>\n",
       "    .dataframe tbody tr th:only-of-type {\n",
       "        vertical-align: middle;\n",
       "    }\n",
       "\n",
       "    .dataframe tbody tr th {\n",
       "        vertical-align: top;\n",
       "    }\n",
       "\n",
       "    .dataframe thead th {\n",
       "        text-align: right;\n",
       "    }\n",
       "</style>\n",
       "<table border=\"1\" class=\"dataframe\">\n",
       "  <thead>\n",
       "    <tr style=\"text-align: right;\">\n",
       "      <th></th>\n",
       "      <th>incident_datetime</th>\n",
       "      <th>dispatched_datetime</th>\n",
       "      <th>arrival_datetime</th>\n",
       "      <th>available_datetime</th>\n",
       "      <th>impound_datetime</th>\n",
       "      <th>disposition_date</th>\n",
       "      <th>vaccination_date</th>\n",
       "    </tr>\n",
       "  </thead>\n",
       "  <tbody>\n",
       "    <tr>\n",
       "      <th>min</th>\n",
       "      <td>2012-01-01 11:20:00</td>\n",
       "      <td>2012-01-03 08:19:00</td>\n",
       "      <td>2012-01-03 08:52:00</td>\n",
       "      <td>2012-01-03 08:55:00</td>\n",
       "      <td>1951-10-12 19:20:00</td>\n",
       "      <td>1951-10-12</td>\n",
       "      <td>2009-07-20 12:00:00</td>\n",
       "    </tr>\n",
       "    <tr>\n",
       "      <th>max</th>\n",
       "      <td>2020-11-18 08:00:00</td>\n",
       "      <td>2020-11-18 00:00:00</td>\n",
       "      <td>2020-11-18 00:00:00</td>\n",
       "      <td>2020-11-18 16:09:00</td>\n",
       "      <td>2020-07-28 15:50:00</td>\n",
       "      <td>2020-06-27</td>\n",
       "      <td>2019-08-06 12:00:00</td>\n",
       "    </tr>\n",
       "  </tbody>\n",
       "</table>\n",
       "</div>"
      ],
      "text/plain": [
       "      incident_datetime dispatched_datetime    arrival_datetime  \\\n",
       "min 2012-01-01 11:20:00 2012-01-03 08:19:00 2012-01-03 08:52:00   \n",
       "max 2020-11-18 08:00:00 2020-11-18 00:00:00 2020-11-18 00:00:00   \n",
       "\n",
       "     available_datetime    impound_datetime disposition_date  \\\n",
       "min 2012-01-03 08:55:00 1951-10-12 19:20:00       1951-10-12   \n",
       "max 2020-11-18 16:09:00 2020-07-28 15:50:00       2020-06-27   \n",
       "\n",
       "       vaccination_date  \n",
       "min 2009-07-20 12:00:00  \n",
       "max 2019-08-06 12:00:00  "
      ]
     },
     "execution_count": 21,
     "metadata": {},
     "output_type": "execute_result"
    }
   ],
   "source": [
    "# get min and max dates\n",
    "ac_raw[['incident_datetime', 'dispatched_datetime','arrival_datetime', 'available_datetime', 'impound_datetime', 'disposition_date',\n",
    "'vaccination_date']].agg((\"min\", \"max\"))"
   ]
  },
  {
   "cell_type": "code",
   "execution_count": 22,
   "metadata": {},
   "outputs": [],
   "source": [
    "#convert impound number to string\n",
    "\n",
    "ac_raw['impound_number'] = np.nan_to_num(ac_raw['impound_number']).astype(int)\n",
    "ac_raw['zip_code'] = np.nan_to_num(ac_raw['zip_code']).astype(int)"
   ]
  },
  {
   "cell_type": "markdown",
   "metadata": {},
   "source": [
    "### Column Elimination\n",
    "The COMPLAINANT STREET was removed to protect the identity of the complainant.\n",
    "\n",
    "These columns were removed because they are not likely to be relevant to the analysis:\n",
    "- CALL TAKER\n",
    "- DISPATCHER\n",
    "- DISPATCHED OTHER\n",
    "- OFFICER\n",
    "- EQUIPMENT NUMBER\n",
    "- COLLAR COLOR\n",
    "- DISPOSITION OFFICER\n",
    "\n",
    "Compared to the amount of data in the dataset, these variables are not likely to have enough occurences to provide meaningful information:\n",
    "- VACCINATION NUMBER\n",
    "- VACCINATION DATE\n",
    "- PET NAME"
   ]
  },
  {
   "cell_type": "code",
   "execution_count": 23,
   "metadata": {},
   "outputs": [
    {
     "data": {
      "text/html": [
       "<div>\n",
       "<style scoped>\n",
       "    .dataframe tbody tr th:only-of-type {\n",
       "        vertical-align: middle;\n",
       "    }\n",
       "\n",
       "    .dataframe tbody tr th {\n",
       "        vertical-align: top;\n",
       "    }\n",
       "\n",
       "    .dataframe thead th {\n",
       "        text-align: right;\n",
       "    }\n",
       "</style>\n",
       "<table border=\"1\" class=\"dataframe\">\n",
       "  <thead>\n",
       "    <tr style=\"text-align: right;\">\n",
       "      <th></th>\n",
       "      <th>file_number</th>\n",
       "      <th>incident_date</th>\n",
       "      <th>incident_time</th>\n",
       "      <th>dispatched_time</th>\n",
       "      <th>dispatched_situation</th>\n",
       "      <th>arrival_time</th>\n",
       "      <th>available_time</th>\n",
       "      <th>request_type</th>\n",
       "      <th>remarks</th>\n",
       "      <th>impound_number</th>\n",
       "      <th>...</th>\n",
       "      <th>condition</th>\n",
       "      <th>temperment</th>\n",
       "      <th>collar</th>\n",
       "      <th>disposition</th>\n",
       "      <th>disposition_date</th>\n",
       "      <th>incident_datetime</th>\n",
       "      <th>dispatched_datetime</th>\n",
       "      <th>arrival_datetime</th>\n",
       "      <th>available_datetime</th>\n",
       "      <th>impound_datetime</th>\n",
       "    </tr>\n",
       "  </thead>\n",
       "  <tbody>\n",
       "    <tr>\n",
       "      <th>0</th>\n",
       "      <td>201639027</td>\n",
       "      <td>12/27/2016</td>\n",
       "      <td>15:30</td>\n",
       "      <td>16:06</td>\n",
       "      <td>D</td>\n",
       "      <td>16:17</td>\n",
       "      <td>16:38</td>\n",
       "      <td>CRUELTY CASE</td>\n",
       "      <td>NaN</td>\n",
       "      <td>72536</td>\n",
       "      <td>...</td>\n",
       "      <td>FAIR</td>\n",
       "      <td>FRIENDLY</td>\n",
       "      <td>NYLON</td>\n",
       "      <td>TRANS CAA</td>\n",
       "      <td>2016-12-27</td>\n",
       "      <td>2016-12-27 15:30:00</td>\n",
       "      <td>2016-12-27 16:06:00</td>\n",
       "      <td>2016-12-27 16:17:00</td>\n",
       "      <td>2016-12-27 16:38:00</td>\n",
       "      <td>2016-12-27 16:20:00</td>\n",
       "    </tr>\n",
       "    <tr>\n",
       "      <th>1</th>\n",
       "      <td>201639044</td>\n",
       "      <td>12/28/2016</td>\n",
       "      <td>10:06</td>\n",
       "      <td>10:07</td>\n",
       "      <td>D</td>\n",
       "      <td>10:15</td>\n",
       "      <td>10:23</td>\n",
       "      <td>TRAPPED ANIMAL</td>\n",
       "      <td>NaN</td>\n",
       "      <td>72414</td>\n",
       "      <td>...</td>\n",
       "      <td>FAIR</td>\n",
       "      <td>NORMAL</td>\n",
       "      <td>UNKNOWN</td>\n",
       "      <td>RETURN TO WILD</td>\n",
       "      <td>2016-12-28</td>\n",
       "      <td>2016-12-28 10:06:00</td>\n",
       "      <td>2016-12-28 10:07:00</td>\n",
       "      <td>2016-12-28 10:15:00</td>\n",
       "      <td>2016-12-28 10:23:00</td>\n",
       "      <td>2016-12-28 10:21:00</td>\n",
       "    </tr>\n",
       "    <tr>\n",
       "      <th>2</th>\n",
       "      <td>201639036</td>\n",
       "      <td>12/28/2016</td>\n",
       "      <td>09:03</td>\n",
       "      <td>09:03</td>\n",
       "      <td>D</td>\n",
       "      <td>09:27</td>\n",
       "      <td>09:45</td>\n",
       "      <td>STRAY ANIMAL SECURED</td>\n",
       "      <td>NaN</td>\n",
       "      <td>70587</td>\n",
       "      <td>...</td>\n",
       "      <td>EMACIATED</td>\n",
       "      <td>FRIENDLY</td>\n",
       "      <td>LEATHER</td>\n",
       "      <td>TRANS CAA</td>\n",
       "      <td>2016-12-28</td>\n",
       "      <td>2016-12-28 09:03:00</td>\n",
       "      <td>2016-12-28 09:03:00</td>\n",
       "      <td>2016-12-28 09:27:00</td>\n",
       "      <td>2016-12-28 09:45:00</td>\n",
       "      <td>2016-12-28 09:41:00</td>\n",
       "    </tr>\n",
       "    <tr>\n",
       "      <th>3</th>\n",
       "      <td>202087899</td>\n",
       "      <td>08/30/2020</td>\n",
       "      <td>13:39</td>\n",
       "      <td>00:00</td>\n",
       "      <td>D</td>\n",
       "      <td>00:00</td>\n",
       "      <td>16:52</td>\n",
       "      <td>UNKNOWN</td>\n",
       "      <td>NaN</td>\n",
       "      <td>0</td>\n",
       "      <td>...</td>\n",
       "      <td>NaN</td>\n",
       "      <td>NaN</td>\n",
       "      <td>NaN</td>\n",
       "      <td>NaN</td>\n",
       "      <td>NaT</td>\n",
       "      <td>2020-08-30 13:39:00</td>\n",
       "      <td>2020-08-30 00:00:00</td>\n",
       "      <td>2020-08-30 00:00:00</td>\n",
       "      <td>2020-08-30 16:52:00</td>\n",
       "      <td>NaT</td>\n",
       "    </tr>\n",
       "    <tr>\n",
       "      <th>4</th>\n",
       "      <td>201639059</td>\n",
       "      <td>12/28/2016</td>\n",
       "      <td>15:05</td>\n",
       "      <td>15:45</td>\n",
       "      <td>D</td>\n",
       "      <td>16:07</td>\n",
       "      <td>16:25</td>\n",
       "      <td>STRAY ANIMAL SECURED</td>\n",
       "      <td>NaN</td>\n",
       "      <td>71349</td>\n",
       "      <td>...</td>\n",
       "      <td>EMACIATED</td>\n",
       "      <td>NORMAL</td>\n",
       "      <td>UNKNOWN</td>\n",
       "      <td>TRANS CAA</td>\n",
       "      <td>2016-12-28</td>\n",
       "      <td>2016-12-28 15:05:00</td>\n",
       "      <td>2016-12-28 15:45:00</td>\n",
       "      <td>2016-12-28 16:07:00</td>\n",
       "      <td>2016-12-28 16:25:00</td>\n",
       "      <td>2016-12-28 16:20:00</td>\n",
       "    </tr>\n",
       "  </tbody>\n",
       "</table>\n",
       "<p>5 rows × 32 columns</p>\n",
       "</div>"
      ],
      "text/plain": [
       "   file_number incident_date incident_time dispatched_time  \\\n",
       "0    201639027    12/27/2016         15:30           16:06   \n",
       "1    201639044    12/28/2016         10:06           10:07   \n",
       "2    201639036    12/28/2016         09:03           09:03   \n",
       "3    202087899    08/30/2020         13:39           00:00   \n",
       "4    201639059    12/28/2016         15:05           15:45   \n",
       "\n",
       "  dispatched_situation arrival_time available_time          request_type  \\\n",
       "0                    D        16:17          16:38          CRUELTY CASE   \n",
       "1                    D        10:15          10:23        TRAPPED ANIMAL   \n",
       "2                    D        09:27          09:45  STRAY ANIMAL SECURED   \n",
       "3                    D        00:00          16:52               UNKNOWN   \n",
       "4                    D        16:07          16:25  STRAY ANIMAL SECURED   \n",
       "\n",
       "  remarks  impound_number  ...  condition temperment   collar     disposition  \\\n",
       "0     NaN           72536  ...       FAIR   FRIENDLY    NYLON       TRANS CAA   \n",
       "1     NaN           72414  ...       FAIR     NORMAL  UNKNOWN  RETURN TO WILD   \n",
       "2     NaN           70587  ...  EMACIATED   FRIENDLY  LEATHER       TRANS CAA   \n",
       "3     NaN               0  ...        NaN        NaN      NaN             NaN   \n",
       "4     NaN           71349  ...  EMACIATED     NORMAL  UNKNOWN       TRANS CAA   \n",
       "\n",
       "   disposition_date   incident_datetime dispatched_datetime  \\\n",
       "0        2016-12-27 2016-12-27 15:30:00 2016-12-27 16:06:00   \n",
       "1        2016-12-28 2016-12-28 10:06:00 2016-12-28 10:07:00   \n",
       "2        2016-12-28 2016-12-28 09:03:00 2016-12-28 09:03:00   \n",
       "3               NaT 2020-08-30 13:39:00 2020-08-30 00:00:00   \n",
       "4        2016-12-28 2016-12-28 15:05:00 2016-12-28 15:45:00   \n",
       "\n",
       "     arrival_datetime  available_datetime    impound_datetime  \n",
       "0 2016-12-27 16:17:00 2016-12-27 16:38:00 2016-12-27 16:20:00  \n",
       "1 2016-12-28 10:15:00 2016-12-28 10:23:00 2016-12-28 10:21:00  \n",
       "2 2016-12-28 09:27:00 2016-12-28 09:45:00 2016-12-28 09:41:00  \n",
       "3 2020-08-30 00:00:00 2020-08-30 16:52:00                 NaT  \n",
       "4 2016-12-28 16:07:00 2016-12-28 16:25:00 2016-12-28 16:20:00  \n",
       "\n",
       "[5 rows x 32 columns]"
      ]
     },
     "execution_count": 23,
     "metadata": {},
     "output_type": "execute_result"
    }
   ],
   "source": [
    "# drop unnecessary columns\n",
    "ac_new_clean = ac_raw.drop(['complainant_street_','call_taker', 'dispatcher', 'dispatched_other', 'officer', 'equipment_number', 'collar_color','disposition_officer', 'vaccination_number', 'vaccination_date', 'pet_name'], axis=1)\n",
    "ac_new_clean.head()"
   ]
  },
  {
   "cell_type": "code",
   "execution_count": 24,
   "metadata": {},
   "outputs": [
    {
     "data": {
      "text/plain": [
       "(95329, 32)"
      ]
     },
     "execution_count": 24,
     "metadata": {},
     "output_type": "execute_result"
    }
   ],
   "source": [
    "ac_new_clean.shape"
   ]
  },
  {
   "cell_type": "code",
   "execution_count": 25,
   "metadata": {
    "scrolled": false
   },
   "outputs": [],
   "source": [
    "# add lat and long columns from lookup file\n",
    "ac_new_clean = pd.merge(ac_new_clean, ac_geo_info, left_on='file_number', right_on='file_number', how='inner')"
   ]
  },
  {
   "cell_type": "markdown",
   "metadata": {},
   "source": [
    "By inner joining on the previously cleaned data's geocoded records, I'm eliminating rows that were previously identified as not being relevant for analysis and still taking advantage of previously cleansed data."
   ]
  },
  {
   "cell_type": "code",
   "execution_count": 26,
   "metadata": {},
   "outputs": [
    {
     "data": {
      "text/plain": [
       "(55889, 35)"
      ]
     },
     "execution_count": 26,
     "metadata": {},
     "output_type": "execute_result"
    }
   ],
   "source": [
    "ac_new_clean.shape"
   ]
  },
  {
   "cell_type": "code",
   "execution_count": 27,
   "metadata": {
    "scrolled": false
   },
   "outputs": [
    {
     "data": {
      "text/html": [
       "<div>\n",
       "<style scoped>\n",
       "    .dataframe tbody tr th:only-of-type {\n",
       "        vertical-align: middle;\n",
       "    }\n",
       "\n",
       "    .dataframe tbody tr th {\n",
       "        vertical-align: top;\n",
       "    }\n",
       "\n",
       "    .dataframe thead th {\n",
       "        text-align: right;\n",
       "    }\n",
       "</style>\n",
       "<table border=\"1\" class=\"dataframe\">\n",
       "  <thead>\n",
       "    <tr style=\"text-align: right;\">\n",
       "      <th></th>\n",
       "      <th>file_number</th>\n",
       "      <th>incident_date</th>\n",
       "      <th>incident_time</th>\n",
       "      <th>dispatched_time</th>\n",
       "      <th>dispatched_situation</th>\n",
       "      <th>arrival_time</th>\n",
       "      <th>available_time</th>\n",
       "      <th>request_type</th>\n",
       "      <th>remarks</th>\n",
       "      <th>impound_number</th>\n",
       "      <th>...</th>\n",
       "      <th>disposition</th>\n",
       "      <th>disposition_date</th>\n",
       "      <th>incident_datetime</th>\n",
       "      <th>dispatched_datetime</th>\n",
       "      <th>arrival_datetime</th>\n",
       "      <th>available_datetime</th>\n",
       "      <th>impound_datetime</th>\n",
       "      <th>location_y</th>\n",
       "      <th>lat</th>\n",
       "      <th>long</th>\n",
       "    </tr>\n",
       "  </thead>\n",
       "  <tbody>\n",
       "    <tr>\n",
       "      <th>0</th>\n",
       "      <td>201639027</td>\n",
       "      <td>12/27/2016</td>\n",
       "      <td>15:30</td>\n",
       "      <td>16:06</td>\n",
       "      <td>D</td>\n",
       "      <td>16:17</td>\n",
       "      <td>16:38</td>\n",
       "      <td>CRUELTY CASE</td>\n",
       "      <td>NaN</td>\n",
       "      <td>72536</td>\n",
       "      <td>...</td>\n",
       "      <td>TRANS CAA</td>\n",
       "      <td>2016-12-27</td>\n",
       "      <td>2016-12-27 15:30:00</td>\n",
       "      <td>2016-12-27 16:06:00</td>\n",
       "      <td>2016-12-27 16:17:00</td>\n",
       "      <td>2016-12-27 16:38:00</td>\n",
       "      <td>2016-12-27 16:20:00</td>\n",
       "      <td>3366 SYCAMORE, BATON ROUGE, LA.</td>\n",
       "      <td>30.494640</td>\n",
       "      <td>-91.156160</td>\n",
       "    </tr>\n",
       "    <tr>\n",
       "      <th>1</th>\n",
       "      <td>201639044</td>\n",
       "      <td>12/28/2016</td>\n",
       "      <td>10:06</td>\n",
       "      <td>10:07</td>\n",
       "      <td>D</td>\n",
       "      <td>10:15</td>\n",
       "      <td>10:23</td>\n",
       "      <td>TRAPPED ANIMAL</td>\n",
       "      <td>NaN</td>\n",
       "      <td>72414</td>\n",
       "      <td>...</td>\n",
       "      <td>RETURN TO WILD</td>\n",
       "      <td>2016-12-28</td>\n",
       "      <td>2016-12-28 10:06:00</td>\n",
       "      <td>2016-12-28 10:07:00</td>\n",
       "      <td>2016-12-28 10:15:00</td>\n",
       "      <td>2016-12-28 10:23:00</td>\n",
       "      <td>2016-12-28 10:21:00</td>\n",
       "      <td>2582 WOODLAND RIDGE, BATON ROUGE, LA.</td>\n",
       "      <td>30.431417</td>\n",
       "      <td>-91.141070</td>\n",
       "    </tr>\n",
       "    <tr>\n",
       "      <th>2</th>\n",
       "      <td>201639036</td>\n",
       "      <td>12/28/2016</td>\n",
       "      <td>09:03</td>\n",
       "      <td>09:03</td>\n",
       "      <td>D</td>\n",
       "      <td>09:27</td>\n",
       "      <td>09:45</td>\n",
       "      <td>STRAY ANIMAL SECURED</td>\n",
       "      <td>NaN</td>\n",
       "      <td>70587</td>\n",
       "      <td>...</td>\n",
       "      <td>TRANS CAA</td>\n",
       "      <td>2016-12-28</td>\n",
       "      <td>2016-12-28 09:03:00</td>\n",
       "      <td>2016-12-28 09:03:00</td>\n",
       "      <td>2016-12-28 09:27:00</td>\n",
       "      <td>2016-12-28 09:45:00</td>\n",
       "      <td>2016-12-28 09:41:00</td>\n",
       "      <td>4463 MAIN, ZACHARY, LA.</td>\n",
       "      <td>30.648540</td>\n",
       "      <td>-91.156770</td>\n",
       "    </tr>\n",
       "    <tr>\n",
       "      <th>3</th>\n",
       "      <td>201639059</td>\n",
       "      <td>12/28/2016</td>\n",
       "      <td>15:05</td>\n",
       "      <td>15:45</td>\n",
       "      <td>D</td>\n",
       "      <td>16:07</td>\n",
       "      <td>16:25</td>\n",
       "      <td>STRAY ANIMAL SECURED</td>\n",
       "      <td>NaN</td>\n",
       "      <td>71349</td>\n",
       "      <td>...</td>\n",
       "      <td>TRANS CAA</td>\n",
       "      <td>2016-12-28</td>\n",
       "      <td>2016-12-28 15:05:00</td>\n",
       "      <td>2016-12-28 15:45:00</td>\n",
       "      <td>2016-12-28 16:07:00</td>\n",
       "      <td>2016-12-28 16:25:00</td>\n",
       "      <td>2016-12-28 16:20:00</td>\n",
       "      <td>299 VAN BUREN, BATON ROUGE, LA.</td>\n",
       "      <td>30.429104</td>\n",
       "      <td>-91.185036</td>\n",
       "    </tr>\n",
       "    <tr>\n",
       "      <th>4</th>\n",
       "      <td>201639043</td>\n",
       "      <td>12/28/2016</td>\n",
       "      <td>10:03</td>\n",
       "      <td>10:10</td>\n",
       "      <td>D</td>\n",
       "      <td>10:35</td>\n",
       "      <td>10:52</td>\n",
       "      <td>OWNER SIGNED RELEASE</td>\n",
       "      <td>NaN</td>\n",
       "      <td>70589</td>\n",
       "      <td>...</td>\n",
       "      <td>TRANS CAA</td>\n",
       "      <td>2016-12-28</td>\n",
       "      <td>2016-12-28 10:03:00</td>\n",
       "      <td>2016-12-28 10:10:00</td>\n",
       "      <td>2016-12-28 10:35:00</td>\n",
       "      <td>2016-12-28 10:52:00</td>\n",
       "      <td>2016-12-28 10:41:00</td>\n",
       "      <td>6621 MARIONETTE, BATON ROUGE, LA.</td>\n",
       "      <td>30.529593</td>\n",
       "      <td>-91.125534</td>\n",
       "    </tr>\n",
       "  </tbody>\n",
       "</table>\n",
       "<p>5 rows × 35 columns</p>\n",
       "</div>"
      ],
      "text/plain": [
       "   file_number incident_date incident_time dispatched_time  \\\n",
       "0    201639027    12/27/2016         15:30           16:06   \n",
       "1    201639044    12/28/2016         10:06           10:07   \n",
       "2    201639036    12/28/2016         09:03           09:03   \n",
       "3    201639059    12/28/2016         15:05           15:45   \n",
       "4    201639043    12/28/2016         10:03           10:10   \n",
       "\n",
       "  dispatched_situation arrival_time available_time          request_type  \\\n",
       "0                    D        16:17          16:38          CRUELTY CASE   \n",
       "1                    D        10:15          10:23        TRAPPED ANIMAL   \n",
       "2                    D        09:27          09:45  STRAY ANIMAL SECURED   \n",
       "3                    D        16:07          16:25  STRAY ANIMAL SECURED   \n",
       "4                    D        10:35          10:52  OWNER SIGNED RELEASE   \n",
       "\n",
       "  remarks  impound_number  ...     disposition disposition_date  \\\n",
       "0     NaN           72536  ...       TRANS CAA       2016-12-27   \n",
       "1     NaN           72414  ...  RETURN TO WILD       2016-12-28   \n",
       "2     NaN           70587  ...       TRANS CAA       2016-12-28   \n",
       "3     NaN           71349  ...       TRANS CAA       2016-12-28   \n",
       "4     NaN           70589  ...       TRANS CAA       2016-12-28   \n",
       "\n",
       "    incident_datetime dispatched_datetime    arrival_datetime  \\\n",
       "0 2016-12-27 15:30:00 2016-12-27 16:06:00 2016-12-27 16:17:00   \n",
       "1 2016-12-28 10:06:00 2016-12-28 10:07:00 2016-12-28 10:15:00   \n",
       "2 2016-12-28 09:03:00 2016-12-28 09:03:00 2016-12-28 09:27:00   \n",
       "3 2016-12-28 15:05:00 2016-12-28 15:45:00 2016-12-28 16:07:00   \n",
       "4 2016-12-28 10:03:00 2016-12-28 10:10:00 2016-12-28 10:35:00   \n",
       "\n",
       "   available_datetime    impound_datetime  \\\n",
       "0 2016-12-27 16:38:00 2016-12-27 16:20:00   \n",
       "1 2016-12-28 10:23:00 2016-12-28 10:21:00   \n",
       "2 2016-12-28 09:45:00 2016-12-28 09:41:00   \n",
       "3 2016-12-28 16:25:00 2016-12-28 16:20:00   \n",
       "4 2016-12-28 10:52:00 2016-12-28 10:41:00   \n",
       "\n",
       "                              location_y        lat       long  \n",
       "0        3366 SYCAMORE, BATON ROUGE, LA.  30.494640 -91.156160  \n",
       "1  2582 WOODLAND RIDGE, BATON ROUGE, LA.  30.431417 -91.141070  \n",
       "2                4463 MAIN, ZACHARY, LA.  30.648540 -91.156770  \n",
       "3        299 VAN BUREN, BATON ROUGE, LA.  30.429104 -91.185036  \n",
       "4      6621 MARIONETTE, BATON ROUGE, LA.  30.529593 -91.125534  \n",
       "\n",
       "[5 rows x 35 columns]"
      ]
     },
     "execution_count": 27,
     "metadata": {},
     "output_type": "execute_result"
    }
   ],
   "source": [
    "ac_new_clean.head()"
   ]
  },
  {
   "cell_type": "markdown",
   "metadata": {},
   "source": [
    "### Evaluate the distribution of categorical values"
   ]
  },
  {
   "cell_type": "code",
   "execution_count": 28,
   "metadata": {},
   "outputs": [
    {
     "data": {
      "text/plain": [
       "D      42923\n",
       "NaN    11654\n",
       "K       1234\n",
       "U         66\n",
       "F         11\n",
       "N          1\n",
       "Name: dispatched_situation, dtype: int64"
      ]
     },
     "execution_count": 28,
     "metadata": {},
     "output_type": "execute_result"
    }
   ],
   "source": [
    "#categorical columns to review:['dispatched_situation', 'request_type', 'municipality_', 'zip_code', 'service_code', 'species', \n",
    "#               'breed', 'sex', 'size', 'color', 'condition', 'temperment', 'collar', 'disposition']\n",
    "\n",
    "ac_new_clean['dispatched_situation'].value_counts(dropna=False)\n"
   ]
  },
  {
   "cell_type": "markdown",
   "metadata": {},
   "source": [
    "I'm unable to find what the values of U, F or N mean.  D means dispatched immediately, K means dispatched the following day"
   ]
  },
  {
   "cell_type": "code",
   "execution_count": 29,
   "metadata": {},
   "outputs": [
    {
     "data": {
      "text/plain": [
       "NaN                           35157\n",
       "TRAPPED ANIMAL                 5847\n",
       "STRAY ANIMAL SECURED           2894\n",
       "STRAY ANIMAL                   2227\n",
       "UNKNOWN                        2216\n",
       "INJURED ANIMAL                  684\n",
       "ABANDONED ANIMAL                676\n",
       "LOOSE ANIMAL                    599\n",
       "OWNER SIGNED RELEASE            599\n",
       "PITBULL                         529\n",
       "UNIT STANDING BY                526\n",
       "BITE CASE                       485\n",
       "CRUELTY CASE                    445\n",
       "VET PICKUP                      441\n",
       "ANIMAL RESCUE                   427\n",
       "DANGEROUS ANIMAL SITUATION      370\n",
       "WILD LIFE                       367\n",
       "SICK ANIMAL                     224\n",
       "SPECIAL CASE                    221\n",
       "OTHER                           185\n",
       "SNAKE                           130\n",
       "SCHOOL CALL                     130\n",
       "CRUELTY RECHECK                 119\n",
       "LOOSE LIVE STOCK                112\n",
       "DELIVER TRAP                     99\n",
       "PATROL AREA                      64\n",
       "PICK UP TRAP                     57\n",
       "DOG FIGHTING                     15\n",
       "STRAY                            12\n",
       "DELIVERED TAGS                   10\n",
       "TRAP                              5\n",
       "WARNING NOTICE                    5\n",
       "PICK UP / DELIVER PACKAGE         5\n",
       "RECHECK                           2\n",
       "VET TRANSFER                      2\n",
       "IN HOME SIGNED                    1\n",
       "ISSUE SUMMONS                     1\n",
       "BARKING DOG                       1\n",
       "Name: request_type, dtype: int64"
      ]
     },
     "execution_count": 29,
     "metadata": {},
     "output_type": "execute_result"
    }
   ],
   "source": [
    "ac_new_clean['request_type'].value_counts(dropna=False)"
   ]
  },
  {
   "cell_type": "markdown",
   "metadata": {},
   "source": [
    "There are a large number of null values. Will need to determine how to handle.  The following categories can be combined:\n",
    "STRAY/STRAY ANIMAL\n",
    "CRUELTY RECHECK/RECHECK"
   ]
  },
  {
   "cell_type": "code",
   "execution_count": 30,
   "metadata": {},
   "outputs": [
    {
     "data": {
      "text/plain": [
       "BATON ROUGE    50724\n",
       "PARISH          1763\n",
       "ZACHARY         1289\n",
       "BAKER           1046\n",
       "CENTRAL          923\n",
       "UNKNOWN          143\n",
       "NaN                1\n",
       "Name: municipality_, dtype: int64"
      ]
     },
     "execution_count": 30,
     "metadata": {},
     "output_type": "execute_result"
    }
   ],
   "source": [
    "ac_new_clean['municipality_'].value_counts(dropna=False)"
   ]
  },
  {
   "cell_type": "markdown",
   "metadata": {},
   "source": [
    "This data is heavily skewed towards baton rouge."
   ]
  },
  {
   "cell_type": "code",
   "execution_count": 31,
   "metadata": {},
   "outputs": [
    {
     "data": {
      "text/plain": [
       "0        30491\n",
       "70805     3385\n",
       "70816     1998\n",
       "70802     1996\n",
       "70815     1983\n",
       "         ...  \n",
       "70708        1\n",
       "70781        1\n",
       "70071        1\n",
       "70707        1\n",
       "55887        1\n",
       "Name: zip_code, Length: 67, dtype: int64"
      ]
     },
     "execution_count": 31,
     "metadata": {},
     "output_type": "execute_result"
    }
   ],
   "source": [
    "ac_new_clean['zip_code'].value_counts(dropna=False)"
   ]
  },
  {
   "cell_type": "markdown",
   "metadata": {},
   "source": [
    "More than half do not have a zip code"
   ]
  },
  {
   "cell_type": "code",
   "execution_count": 32,
   "metadata": {},
   "outputs": [
    {
     "data": {
      "text/plain": [
       "TRAPPED ANIMAL           17814\n",
       "STRAY                     8632\n",
       "STRAY AN. SECURED         5497\n",
       "STRAY AN SECURED          3301\n",
       "LOOSE                     3009\n",
       "OWNER SIGNED RELEASE      2570\n",
       "ABANDONED ANIMAL          2099\n",
       "INJURED                   1998\n",
       "CRUELTY                   1697\n",
       "WILD LIVE                 1350\n",
       "UNIT STANDING BY          1319\n",
       "BITE CASE LOOSE            960\n",
       "ANIMAL RESCUE              905\n",
       "SICK ANIMAL                795\n",
       "VET PICKUP                 766\n",
       "DANGEROUS ANIMAL SIT.      495\n",
       "BITE CASE SECURE           460\n",
       "DANGEROUS ANIMAL SIT       409\n",
       "LOOSE LIVESTOCK            358\n",
       "SPECIAL CASE               335\n",
       "SNAKE                      335\n",
       "SCHOOL CALL                263\n",
       "DOG FIGHTING               204\n",
       "UNKNOWN                    182\n",
       "BITE CASE                  131\n",
       "OWNED                        4\n",
       "HIT BY CAR                   1\n",
       "Name: service_code, dtype: int64"
      ]
     },
     "execution_count": 32,
     "metadata": {},
     "output_type": "execute_result"
    }
   ],
   "source": [
    "ac_new_clean['service_code'].value_counts(dropna=False)"
   ]
  },
  {
   "cell_type": "markdown",
   "metadata": {},
   "source": [
    "These results are interesting.  This is what the officer reported as the call type which may differ from the request type.  The request type is what the caller reported.  Some categories are duplicated:  \n",
    "- STRAY AN SECURED/STRAY AN. SECURED\n",
    "- DANGEROUS ANIMAL SIT/DANGEROUS ANIMAL SIT."
   ]
  },
  {
   "cell_type": "code",
   "execution_count": 33,
   "metadata": {},
   "outputs": [
    {
     "data": {
      "text/plain": [
       "DOG          28503\n",
       "CAT          14508\n",
       "WILDLIFE     11102\n",
       "LIVESTOCK      516\n",
       "FOWL           419\n",
       "REPTILE        414\n",
       "BIRD           182\n",
       "BIRDS          132\n",
       "OTHER           47\n",
       "UNKNOWN         33\n",
       "NaN             27\n",
       "EXOTIC           6\n",
       "Name: species, dtype: int64"
      ]
     },
     "execution_count": 33,
     "metadata": {},
     "output_type": "execute_result"
    }
   ],
   "source": [
    "ac_new_clean['species'].value_counts(dropna=False)"
   ]
  },
  {
   "cell_type": "markdown",
   "metadata": {},
   "source": [
    "This data contains incidents related to species other than cats and dogs.  For this analysis we will limit the process to cats and dogs"
   ]
  },
  {
   "cell_type": "code",
   "execution_count": 34,
   "metadata": {},
   "outputs": [
    {
     "data": {
      "text/plain": [
       "DSH                   12621\n",
       "PITBULL                5736\n",
       "POSSUM                 5412\n",
       "XPIT BULL              4502\n",
       "RACCOON                4345\n",
       "                      ...  \n",
       "OSTRICH                   1\n",
       "SAINT BERNARD             1\n",
       "MOUSE                     1\n",
       "NORWEGIAN ELKHOUND        1\n",
       "WOLF                      1\n",
       "Name: breed, Length: 186, dtype: int64"
      ]
     },
     "execution_count": 34,
     "metadata": {},
     "output_type": "execute_result"
    }
   ],
   "source": [
    "ac_new_clean['breed'].value_counts(dropna=False)"
   ]
  },
  {
   "cell_type": "markdown",
   "metadata": {},
   "source": [
    "There are 186 different breeds - There may be too many to use every single one but once cats and dogs are isolated there may be some that can be combined."
   ]
  },
  {
   "cell_type": "code",
   "execution_count": 35,
   "metadata": {},
   "outputs": [
    {
     "data": {
      "text/plain": [
       "M      15217\n",
       "F      13848\n",
       "U      13638\n",
       "NaN    13173\n",
       "K          4\n",
       "1          3\n",
       "D          2\n",
       "N          2\n",
       "0          1\n",
       "S          1\n",
       "Name: sex, dtype: int64"
      ]
     },
     "execution_count": 35,
     "metadata": {},
     "output_type": "execute_result"
    }
   ],
   "source": [
    "ac_new_clean['sex'].value_counts(dropna=False)"
   ]
  },
  {
   "cell_type": "markdown",
   "metadata": {},
   "source": [
    "Many of the unknown sexes may belong to the wild animals.  Will re-evaluate once data set is reduced to cats and dogs."
   ]
  },
  {
   "cell_type": "code",
   "execution_count": 36,
   "metadata": {},
   "outputs": [
    {
     "data": {
      "text/plain": [
       "MEDIUM         24385\n",
       "LARGE          15836\n",
       "SMALL          12205\n",
       "NaN             1420\n",
       "EXTRA LARGE     1313\n",
       "UNKNOWN          730\n",
       "Name: size, dtype: int64"
      ]
     },
     "execution_count": 36,
     "metadata": {},
     "output_type": "execute_result"
    }
   ],
   "source": [
    "ac_new_clean['size'].value_counts(dropna=False)"
   ]
  },
  {
   "cell_type": "markdown",
   "metadata": {},
   "source": [
    "No red flags here.  The number of unknown and null are small compared to the size of the dataset."
   ]
  },
  {
   "cell_type": "code",
   "execution_count": 37,
   "metadata": {},
   "outputs": [
    {
     "data": {
      "text/plain": [
       "BLK/WHT               4307\n",
       "BLK                   4301\n",
       "GRY                   3260\n",
       "BRWN/WHT              1679\n",
       "GRY/WHT               1668\n",
       "                      ... \n",
       "WHITE/ BLACK SPOTS       1\n",
       "BRNDLE                   1\n",
       "TAMWHT/BLK               1\n",
       "BLUE DAPPLE              1\n",
       "WHTGRY                   1\n",
       "Name: color, Length: 2193, dtype: int64"
      ]
     },
     "execution_count": 37,
     "metadata": {},
     "output_type": "execute_result"
    }
   ],
   "source": [
    "ac_new_clean['color'].value_counts(dropna=False)"
   ]
  },
  {
   "cell_type": "markdown",
   "metadata": {},
   "source": [
    "There are likely too many values here to be valuable in analysis.  Will exclude this column."
   ]
  },
  {
   "cell_type": "code",
   "execution_count": 38,
   "metadata": {},
   "outputs": [
    {
     "data": {
      "text/plain": [
       "FAIR         36625\n",
       "GOOD          9025\n",
       "EMACIATED     6253\n",
       "NaN           2389\n",
       "UNKNOWN        986\n",
       "EXCELLENT      307\n",
       "POOR           304\n",
       "Name: condition, dtype: int64"
      ]
     },
     "execution_count": 38,
     "metadata": {},
     "output_type": "execute_result"
    }
   ],
   "source": [
    "ac_new_clean['condition'].value_counts(dropna=False)"
   ]
  },
  {
   "cell_type": "markdown",
   "metadata": {},
   "source": [
    "This data looks good. There is very little unknown values compared to the size of the dataset."
   ]
  },
  {
   "cell_type": "code",
   "execution_count": 39,
   "metadata": {},
   "outputs": [
    {
     "data": {
      "text/plain": [
       "NORMAL       25782\n",
       "FRIENDLY     14132\n",
       "NERVOUS      12208\n",
       "NaN           1722\n",
       "DANGEROUS     1419\n",
       "UNKNOWN        595\n",
       "SCARED          31\n",
       "Name: temperment, dtype: int64"
      ]
     },
     "execution_count": 39,
     "metadata": {},
     "output_type": "execute_result"
    }
   ],
   "source": [
    "ac_new_clean['temperment'].value_counts(dropna=False)"
   ]
  },
  {
   "cell_type": "markdown",
   "metadata": {},
   "source": [
    "This data looks good. There is very little unknown values compared to the size of the dataset."
   ]
  },
  {
   "cell_type": "code",
   "execution_count": 40,
   "metadata": {},
   "outputs": [
    {
     "data": {
      "text/plain": [
       "NaN           29956\n",
       "UNKNOWN       16651\n",
       "NYLON          7087\n",
       "LEATHER         724\n",
       "NONE            632\n",
       "              ...  \n",
       "CAMO NYLON        1\n",
       "NYLON/            1\n",
       "NON               1\n",
       "NYLON/FLEA        1\n",
       "N SHOE STR        1\n",
       "Name: collar, Length: 111, dtype: int64"
      ]
     },
     "execution_count": 40,
     "metadata": {},
     "output_type": "execute_result"
    }
   ],
   "source": [
    "ac_new_clean['collar'].value_counts(dropna=False)"
   ]
  },
  {
   "cell_type": "code",
   "execution_count": 41,
   "metadata": {},
   "outputs": [
    {
     "data": {
      "text/plain": [
       "array(['NYLON', 'UNKNOWN', 'LEATHER', 'NONE', 'SPIKE', nan, 'ROPE',\n",
       "       'FLEA', 'HALTERNYLO', 'LEASH', 'PLASTIC', 'BANDANA', 'CHOKE',\n",
       "       'CLOTH', 'CHAIN', 'SHOCK', 'HARNESS', 'RED STR. J', 'ROPE(PK/YW',\n",
       "       'NON', 'NYLONN', 'SILVER', 'STRIPES/NY', 'NYLON/FLEA',\n",
       "       'LEATHER/ST', 'AS 4765', 'COLLAR', 'NYLON STUD', 'LEATH,SPIK',\n",
       "       'SPIKE LEAT', 'RED/WHT NY', 'NYLON-BONE', 'NYLON PINK', 'HALTER',\n",
       "       'CAMO', 'WIRE', 'METAL', 'RUBBER', 'PINCH', 'SHIRT', 'CHOK CHAIN',\n",
       "       'LTHR STUD', 'N', 'NYLON/STUB', 'NLYON', 'STRING', 'NYLON SPIK',\n",
       "       'LEATHER SP', 'LETHER', 'NEON', 'BLK', 'BRINDLE', 'BELT',\n",
       "       'NYLON HARN', 'VINYL', 'CHOKER', 'CHAIN/CHRO', 'LSU', 'ELEC', 'NO',\n",
       "       'NYLON/', 'LARGE CHAI', 'FLEA COLLA', 'LEATHER FL', 'NYLOM',\n",
       "       'BLUE PINK', 'NYLON/METL', 'NTYLON', 'NYLONCHAIN', 'NYLON/BUCK',\n",
       "       'CHOKE CHAI', 'BLUE CAMO', 'NYLON FOUN', 'NYLON/DAMA', 'PLEATHER',\n",
       "       'BRIDLE', 'CHAIN TYPE', 'BARKING', 'nylon', 'SWEATER', 'SPIKED',\n",
       "       'CAMO NYLON', 'CHAIN MET', 'NYLON/GRAY', 'NYLON/BELL',\n",
       "       'CHOKECHAIN', 'NYLON/FLEE', 'SCARF', 'CHAINWHTBL', 'NYLON/CAMO',\n",
       "       'PINCH COLL', 'STUDDED', 'RUBBERISH', 'HARDNESS', 'NULON', 'LACE',\n",
       "       'NYLON/PLAS', 'NYLON SHOC', 'CORD', 'NYLON HALT', 'SHOCK TYPE',\n",
       "       'N SHOE STR', 'SPOKES', 'NYLON CAMO', 'CABLE', 'ELECTRIC',\n",
       "       'BLK MUZZLE', 'NYLON/PATT', 'CLOTHR', 'CHOKE CH', 'NYLON/CHAI'],\n",
       "      dtype=object)"
      ]
     },
     "execution_count": 41,
     "metadata": {},
     "output_type": "execute_result"
    }
   ],
   "source": [
    "ac_new_clean['collar'].unique()"
   ]
  },
  {
   "cell_type": "markdown",
   "metadata": {},
   "source": [
    "The type of collar may not be important however the fact that animal was wearing a collar could be a factor that contributes to the result of the animal.  A closer look can also be taken for animals with chains, choke collars can be indicative of cruelty cases."
   ]
  },
  {
   "cell_type": "code",
   "execution_count": 42,
   "metadata": {},
   "outputs": [
    {
     "data": {
      "text/plain": [
       "TRANS CAA             42528\n",
       "RETURN TO WILD         9788\n",
       "RETURN TO OWNER        2137\n",
       "SPECIAL CASE/OTHER     1000\n",
       "EUTHANIZED              262\n",
       "DEAD ON ARRIVAL          84\n",
       "UNKNOWN                  83\n",
       "NaN                       7\n",
       "Name: disposition, dtype: int64"
      ]
     },
     "execution_count": 42,
     "metadata": {},
     "output_type": "execute_result"
    }
   ],
   "source": [
    "ac_new_clean['disposition'].value_counts(dropna=False)"
   ]
  },
  {
   "cell_type": "markdown",
   "metadata": {},
   "source": [
    "This is the end result of the animal.  This is a possible target variable for a predictive model.  There are very little unknowns and nulls."
   ]
  },
  {
   "cell_type": "code",
   "execution_count": 43,
   "metadata": {},
   "outputs": [
    {
     "data": {
      "text/plain": [
       "213                             CAT WAS FOUND IN COMP TRAP\n",
       "293                       MALE AGGRESSIVE\\nFOOD AGGRESSIVE\n",
       "297            DOG WAS HIT BY A CAR\\nBROKEN LEFT FRONT LEG\n",
       "303      BRITTANY JOHNSON\\n504-810-3023 \\nINTERESTED IN...\n",
       "304      BRITTANY JOHNSON\\n504-810-3023 \\nINTERESTED IN...\n",
       "                               ...                        \n",
       "55664                       LOOSE IN YARD AT ABOVE ADDRESS\n",
       "55702                                    4 PUPPIES WAS DOA\n",
       "55745        DOG AT LARGE UNDER COMP'S TRUCK\\nNO KNOWN OWN\n",
       "55856            10.7 @ 1231 IMP,TTC\\n10.8 @ 1238\\nCAGE 10\n",
       "55883                                            STRAY NKO\n",
       "Name: remarks, Length: 2504, dtype: object"
      ]
     },
     "execution_count": 43,
     "metadata": {},
     "output_type": "execute_result"
    }
   ],
   "source": [
    "ac_new_clean[(ac_new_clean['remarks'].notnull()) & (ac_new_clean['remarks'] !='HOLD')]['remarks']"
   ]
  },
  {
   "cell_type": "markdown",
   "metadata": {},
   "source": [
    "There is not likely enough information in the remarks to use as a feature.  "
   ]
  },
  {
   "cell_type": "markdown",
   "metadata": {},
   "source": [
    "### Final data preparation steps"
   ]
  },
  {
   "cell_type": "code",
   "execution_count": 44,
   "metadata": {},
   "outputs": [],
   "source": [
    "ac_new_clean['service_code'] = ac_new_clean['service_code'].str.replace('.', '')"
   ]
  },
  {
   "cell_type": "code",
   "execution_count": 49,
   "metadata": {},
   "outputs": [
    {
     "data": {
      "text/plain": [
       "array(['LOOSE', 'TRAPPED ANIMAL', 'STRAY AN SECURED', 'STRAY',\n",
       "       'OWNER SIGNED RELEASE', 'INJURED', 'SICK ANIMAL', 'WILD LIVE',\n",
       "       'DANGEROUS ANIMAL SIT', 'BITE CASE LOOSE', 'BITE CASE SECURE',\n",
       "       'CRUELTY', 'UNIT STANDING BY', 'LOOSE LIVESTOCK', 'VET PICKUP',\n",
       "       'ANIMAL RESCUE', 'ABANDONED ANIMAL', 'UNKNOWN', 'SPECIAL CASE',\n",
       "       'SNAKE', 'SCHOOL CALL', 'DOG FIGHTING', 'BITE CASE', 'OWNED',\n",
       "       'HIT BY CAR'], dtype=object)"
      ]
     },
     "execution_count": 49,
     "metadata": {},
     "output_type": "execute_result"
    }
   ],
   "source": [
    "ac_new_clean['service_code'].unique()"
   ]
  },
  {
   "cell_type": "code",
   "execution_count": 51,
   "metadata": {},
   "outputs": [
    {
     "data": {
      "text/plain": [
       "array(['DOG', 'WILDLIFE', 'CAT', 'LIVESTOCK', 'BIRDS', 'OTHER', 'EXOTIC',\n",
       "       'REPTILE', 'FOWL', 'UNKNOWN', nan, 'BIRD'], dtype=object)"
      ]
     },
     "execution_count": 51,
     "metadata": {},
     "output_type": "execute_result"
    }
   ],
   "source": [
    "ac_new_clean['species'].unique()"
   ]
  },
  {
   "cell_type": "code",
   "execution_count": 48,
   "metadata": {},
   "outputs": [],
   "source": [
    "ac_new_clean = ac_new_clean.drop(columns=['color','dispatched_situation', 'remarks'])"
   ]
  },
  {
   "cell_type": "code",
   "execution_count": 53,
   "metadata": {},
   "outputs": [
    {
     "data": {
      "text/plain": [
       "Index(['file_number', 'incident_date', 'incident_time', 'dispatched_time',\n",
       "       'arrival_time', 'available_time', 'request_type', 'impound_number',\n",
       "       'impound_date', 'impound_time', 'location_x', 'municipality_',\n",
       "       'zip_code', 'service_code', 'species', 'breed', 'sex', 'size', 'age',\n",
       "       'condition', 'temperment', 'collar', 'disposition', 'disposition_date',\n",
       "       'incident_datetime', 'dispatched_datetime', 'arrival_datetime',\n",
       "       'available_datetime', 'impound_datetime', 'location_y', 'lat', 'long'],\n",
       "      dtype='object')"
      ]
     },
     "execution_count": 53,
     "metadata": {},
     "output_type": "execute_result"
    }
   ],
   "source": [
    "ac_new_clean.columns"
   ]
  },
  {
   "cell_type": "code",
   "execution_count": 54,
   "metadata": {},
   "outputs": [],
   "source": [
    "# I want to visualize some data before I drop or change anything else\n",
    "\n",
    "ac_new_clean.to_csv('../Data/EDA_dataset.csv', index=False)"
   ]
  },
  {
   "cell_type": "code",
   "execution_count": 46,
   "metadata": {},
   "outputs": [],
   "source": [
    "#to do\n",
    "#determine if we need to limit to cats and dogs.\n",
    "#null or unknown dispositions can be eliminated\n",
    "\n",
    "#questions - are impound numbers unique?  Is the presence or absence of this number meaningful?\n",
    "#questions - are time to dispatch, time to arrival, time to available potential features?"
   ]
  },
  {
   "cell_type": "code",
   "execution_count": null,
   "metadata": {},
   "outputs": [],
   "source": [
    "\n"
   ]
  }
 ],
 "metadata": {
  "kernelspec": {
   "display_name": "Python 3",
   "language": "python",
   "name": "python3"
  },
  "language_info": {
   "codemirror_mode": {
    "name": "ipython",
    "version": 3
   },
   "file_extension": ".py",
   "mimetype": "text/x-python",
   "name": "python",
   "nbconvert_exporter": "python",
   "pygments_lexer": "ipython3",
   "version": "3.7.1"
  }
 },
 "nbformat": 4,
 "nbformat_minor": 4
}
